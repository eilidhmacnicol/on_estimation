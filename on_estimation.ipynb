{
 "cells": [
  {
   "cell_type": "markdown",
   "id": "6eef98ad",
   "metadata": {},
   "source": [
    "# Least-squares regression exercise"
   ]
  },
  {
   "cell_type": "markdown",
   "id": "fd39d802",
   "metadata": {},
   "source": [
    "## Introduction and definitions"
   ]
  },
  {
   "cell_type": "code",
   "execution_count": null,
   "id": "597ba700",
   "metadata": {},
   "outputs": [],
   "source": [
    "#: Import numerical and plotting libraries\n",
    "import numpy as np\n",
    "# Print to four digits of precision\n",
    "np.set_printoptions(precision=4, suppress=True)\n",
    "import numpy.linalg as npl\n",
    "import matplotlib.pyplot as plt"
   ]
  },
  {
   "cell_type": "markdown",
   "id": "1308dfcf",
   "metadata": {},
   "source": [
    "These exercises are to practice thinking about how the regression estimation\n",
    "works, and the relationship of correlation and regression.\n",
    "\n",
    "To give us some concrete data to play with, here are some more samples of the\n",
    "“psychopathy” and “clamminess” scores that we saw in the [introduction to the\n",
    "general linear model](https://matthew-brett.github.io/teaching/glm_intro.html):"
   ]
  },
  {
   "cell_type": "code",
   "execution_count": null,
   "id": "61299977",
   "metadata": {},
   "outputs": [],
   "source": [
    "#: The data, that we are trying to model.\n",
    "psychopathy = np.array([ 11.914,   4.289,  10.825,  14.987,\n",
    "                         7.572,   5.447,   17.332,  12.105,\n",
    "                         13.297,  10.635,  21.777,  20.715])"
   ]
  },
  {
   "cell_type": "code",
   "execution_count": null,
   "id": "c7039280",
   "metadata": {},
   "outputs": [],
   "source": [
    "#: The regressor that we will use to model the data.\n",
    "clammy = np.array([ 0.422,  0.406,  0.061,  0.962,  4.715,\n",
    "                    1.398,  1.952,  5.095, 8.092,  5.685,\n",
    "                    5.167,  7.257])"
   ]
  },
  {
   "cell_type": "markdown",
   "id": "125734b7",
   "metadata": {},
   "source": [
    "$\\newcommand{\\yvec}{\\vec{y}} \\newcommand{\\xvec}{\\vec{x}} \\newcommand{\\evec}{\\vec{\\varepsilon}}$\n",
    "\n",
    "Our simple linear model can be expressed by:\n",
    "\n",
    "$$\n",
    "y_i = c + bx_i + e_i`\n",
    "$$\n",
    "\n",
    "or, in vector notation:\n",
    "\n",
    "$$\n",
    "\\yvec = c + b \\xvec + \\evec\n",
    "$$\n",
    "\n",
    "where $\\yvec$ is the vector of values $[y_1, y_2, ... y_n]$ we want to explain\n",
    "(psychopathy), $\\xvec$ is the vector of values $[x_1, x_2, ... x_n]$\n",
    "containing our explanatory variable (clammy), and $\\evec$ is the vector of\n",
    "remaining data unexplained by $c + b \\xvec$.\n",
    "\n",
    "$\\newcommand{Xmat}{\\boldsymbol X} \\newcommand{\\bvec}{\\vec{\\beta}}$\n",
    "\n",
    "The same model can also be expressed using a design *matrix* $\\Xmat$:\n",
    "\n",
    "$$\n",
    "\\yvec = \\Xmat \\bvec + \\evec\n",
    "$$\n",
    "\n",
    "where $\\Xmat$ has two columns, the first being a length $n$ vector of ones,\n",
    "and the second being $\\xvec$. $\\bvec$ is column vector containing two values,\n",
    "$[c, b]$ that are the intercept and slope of the fitted line.\n",
    "\n",
    "Now define the *mean* of $\\vec{x}$ as:\n",
    "\n",
    "$$\n",
    "\\bar{x} = \\frac{1}{n} \\sum_{i=1}^n x_i\n",
    "$$\n",
    "\n",
    "Define two new vectors, $\\vec{x^c}, \\vec{y^c}$ that contain the values in\n",
    "$\\vec{x}, \\vec{y}$ with their respective means subtracted:\n",
    "\n",
    "$$\n",
    "\\vec{x^c} = [x_1 - \\bar{x}, x_2 - \\bar{x}, ... , x_n - \\bar{x}]\n",
    "\n",
    "\\vec{y^c} = [y_1 - \\bar{y}, y_2 - \\bar{y}, ... , y_n - \\bar{y}]\n",
    "$$\n",
    "\n",
    "We found in [introduction to the general linear model](https://matthew-brett.github.io/teaching/glm_intro.html) that, for the case of\n",
    "a full-rank matrix $\\Xmat$, the least squares estimate for $\\bvec$ is given\n",
    "by:\n",
    "\n",
    "$$\n",
    "\\newcommand{\\bhat}{\\hat{\\bvec}} \\newcommand{\\yhat}{\\hat{\\yvec}}\n",
    "\\bhat = (\\Xmat^T \\Xmat)^{-1} \\Xmat^T \\yvec\n",
    "$$"
   ]
  },
  {
   "cell_type": "markdown",
   "id": "b030814f",
   "metadata": {},
   "source": [
    "# Correlation coefficient and regression\n",
    "\n",
    "Create the $\\Xmat$ matrix from a vector of ones and the vector of `clammy`\n",
    "scores:"
   ]
  },
  {
   "cell_type": "code",
   "execution_count": null,
   "id": "cb2ece56",
   "metadata": {},
   "outputs": [],
   "source": [
    "#- Create X design matrix fron column of ones and clammy vector\n",
    "X = ...\n",
    "# Show the result.\n",
    "X"
   ]
  },
  {
   "cell_type": "markdown",
   "id": "333f6b39",
   "metadata": {},
   "source": [
    "Are the columns of `X` orthogonal to each other?"
   ]
  },
  {
   "cell_type": "code",
   "execution_count": null,
   "id": "e970c565",
   "metadata": {},
   "outputs": [],
   "source": [
    "#- Some code to check whether the columns of X are orthogonal.\n",
    "#- Feel free to miss this cell if you don't know how to check if columns are\n",
    "#- orthogonal."
   ]
  },
  {
   "cell_type": "markdown",
   "id": "2c5cbac8",
   "metadata": {},
   "source": [
    "Is $\\Xmat^T \\Xmat$ invertible?"
   ]
  },
  {
   "cell_type": "code",
   "execution_count": null,
   "id": "f0ab145e",
   "metadata": {},
   "outputs": [],
   "source": [
    "#- Check whether X.T.dot(X) is invertible"
   ]
  },
  {
   "cell_type": "markdown",
   "id": "829da1ed",
   "metadata": {},
   "source": [
    "Calculate $(\\Xmat^T \\Xmat)^{-1} \\Xmat^T$.  What shape is it?"
   ]
  },
  {
   "cell_type": "code",
   "execution_count": null,
   "id": "f8401d57",
   "metadata": {},
   "outputs": [],
   "source": [
    "#- Calculate (X.T X)^-1 X.T (the pseudoinverse)"
   ]
  },
  {
   "cell_type": "markdown",
   "id": "004cc72c",
   "metadata": {},
   "source": [
    "Calculate the least squares fit value for $\\bvec$:"
   ]
  },
  {
   "cell_type": "code",
   "execution_count": null,
   "id": "f7eb632b",
   "metadata": {},
   "outputs": [],
   "source": [
    "#- Calculate least squares fit for beta vector"
   ]
  },
  {
   "cell_type": "markdown",
   "id": "6a593177",
   "metadata": {},
   "source": [
    "Calculate the fitted values $c + b \\xvec$, and the residuals $\\evec$:"
   ]
  },
  {
   "cell_type": "code",
   "execution_count": null,
   "id": "7fb5053c",
   "metadata": {},
   "outputs": [],
   "source": [
    "#- Calculate the fitted values"
   ]
  },
  {
   "cell_type": "markdown",
   "id": "d780b1cb",
   "metadata": {},
   "source": [
    "Confirm that the mean of the residuals is close to zero:"
   ]
  },
  {
   "cell_type": "code",
   "execution_count": null,
   "id": "b2f12334",
   "metadata": {},
   "outputs": [],
   "source": [
    "#- mean of residuals near zero"
   ]
  },
  {
   "cell_type": "markdown",
   "id": "fce222c5",
   "metadata": {},
   "source": [
    "Confirm that residuals are orthogonal to both columns of the design matrix:"
   ]
  },
  {
   "cell_type": "code",
   "execution_count": null,
   "id": "f424f178",
   "metadata": {},
   "outputs": [],
   "source": [
    "#- Residuals orthogonal to design"
   ]
  },
  {
   "cell_type": "markdown",
   "id": "b3664edd",
   "metadata": {},
   "source": [
    "We will not modify the design to see what happens to the parameters and the\n",
    "fitted values.\n",
    "\n",
    "To keep our calculations for the original and new designs, start by copying\n",
    "`X` to make a new array `X_o`.  Hint: tab complete on the array object in\n",
    "IPython."
   ]
  },
  {
   "cell_type": "code",
   "execution_count": null,
   "id": "7eb5855f",
   "metadata": {},
   "outputs": [],
   "source": [
    "#- Copy X to new array X_o"
   ]
  },
  {
   "cell_type": "markdown",
   "id": "5a3d8ee5",
   "metadata": {},
   "source": [
    "We found that above that the columns of `X` are not orthogonal.  How can we\n",
    "modify the second column of `X` to make it orthogonal to the first?  Hint:\n",
    "write out the dot product of the first column with the second as a sum, and\n",
    "simplify. Use that result to work out what to subtract from the second column\n",
    "so the dot product is 0."
   ]
  },
  {
   "cell_type": "code",
   "execution_count": null,
   "id": "8ea68347",
   "metadata": {},
   "outputs": [],
   "source": [
    "#- Make second column orthogonal to first. Confirm orthogonality"
   ]
  },
  {
   "cell_type": "markdown",
   "id": "4220ce28",
   "metadata": {},
   "source": [
    "Look at the diagonal values of the matrix `X_o.T.dot(X_o)`.  What is the\n",
    "relationship of these values to the *vector lengths* of the vectors in the\n",
    "first and second columns of `X_o`? See [vectors and dot products](http://matthew-brett.github.io/teaching/on_vectors.html) for a\n",
    "refresher on the concept of vector length.\n",
    "\n",
    "Use `numpy.linalg.inv` to find $(\\Xmat^T \\Xmat)^{-1}$ – the inverse of\n",
    "`X_o.T.dot(X_o)`. Now what is the relationship of the values in the diagonal\n",
    "of the inverse matrix to the lengths of the vectors in the first and second\n",
    "columns of `X_o`?  Hint: $A^{-1} \\cdot A = I$; if $A$ has all zeros off the\n",
    "diagonal, what must $A^{-1}$ be for this to be true?\n",
    "\n",
    "Make a new data vector `y_c` by subtracting the mean from the psychopathy\n",
    "vector:"
   ]
  },
  {
   "cell_type": "code",
   "execution_count": null,
   "id": "fef608f5",
   "metadata": {},
   "outputs": [],
   "source": [
    "#- Make mean-centered version of psychopathy vector"
   ]
  },
  {
   "cell_type": "markdown",
   "id": "b1801727",
   "metadata": {},
   "source": [
    "Calculate a new `B_o` parameter vector for the least-squares fit of `X_o`\n",
    "to `y_c`:"
   ]
  },
  {
   "cell_type": "code",
   "execution_count": null,
   "id": "b09aba63",
   "metadata": {},
   "outputs": [],
   "source": [
    "#- Calculate fit of X_o to y_o"
   ]
  },
  {
   "cell_type": "markdown",
   "id": "90050e15",
   "metadata": {},
   "source": [
    "The first parameter has changed compared to your previous estimate.  Can you\n",
    "explain why it has this new value by considering the values of $(\\Xmat^T\n",
    "\\Xmat)^{-1} \\Xmat^T \\yvec$?\n",
    "\n",
    "Calculate the correlation coefficient between `y_c` and the second column of\n",
    "`X_o`:"
   ]
  },
  {
   "cell_type": "code",
   "execution_count": null,
   "id": "17c6901e",
   "metadata": {},
   "outputs": [],
   "source": [
    "#- Correlation coefficient of y_c and the second column of X_o"
   ]
  },
  {
   "cell_type": "markdown",
   "id": "47b34638",
   "metadata": {},
   "source": [
    "What is the relationship between this correlation coefficient and `B_o[1]`?\n",
    "Hint: what is the relationship of the correlation coefficient to vector dot\n",
    "products?  See: [correlation and projection](http://matthew-brett.github.io/teaching/correlation_projection.html) for a reminder.\n",
    "\n",
    "Now try calculating $\\bvec$ fitting the `X_o` design to the original\n",
    "psychopathy data (not the mean-centered version)."
   ]
  },
  {
   "cell_type": "code",
   "execution_count": null,
   "id": "e2b55431",
   "metadata": {},
   "outputs": [],
   "source": [
    "#- Fit X_o to psychopathy data"
   ]
  },
  {
   "cell_type": "markdown",
   "id": "e05fd73f",
   "metadata": {},
   "source": [
    "Compare the first value in the new `B_o` parameter vector with the mean of\n",
    "the `psychpathy` vector."
   ]
  },
  {
   "cell_type": "code",
   "execution_count": null,
   "id": "f1b44d88",
   "metadata": {},
   "outputs": [],
   "source": [
    "psychopathy.mean()"
   ]
  },
  {
   "cell_type": "markdown",
   "id": "77912729",
   "metadata": {},
   "source": [
    "Can you explain the relationship?\n",
    "\n",
    "For extra points, can you explain why the second value in `B_o` did not\n",
    "change when we estimated for `psychopathy` rather than the mean-centered\n",
    "version `y_c`?  Hint: remember $(\\vec{a} + \\vec{b}) \\cdot \\vec{c} = \\vec{a}\n",
    "\\cdot \\vec{c} + \\vec{b} \\cdot \\vec{c}$.\n",
    "\n",
    "Calculate the fitted values for the `X_o` model, and compare them to the\n",
    "fitted values for the original model:"
   ]
  },
  {
   "cell_type": "code",
   "execution_count": null,
   "id": "9531ddfa",
   "metadata": {},
   "outputs": [],
   "source": [
    "fitted_X_o = X_o.dot(B_o)\n",
    "np.allclose(fitted_X_o, fitted)"
   ]
  },
  {
   "cell_type": "markdown",
   "id": "3605087b",
   "metadata": {},
   "source": [
    "For even more extra points, explain the relationship between the fitted values\n",
    "for the original model and those for the new model, where the clammy regressor\n",
    "is mean centered."
   ]
  }
 ],
 "metadata": {
  "jupytext": {
   "notebook_metadata_filter": "all,-language_info",
   "split_at_heading": true,
   "text_representation": {
    "extension": ".Rmd",
    "format_name": "rmarkdown",
    "format_version": "1.2",
    "jupytext_version": "1.13.7"
   }
  },
  "kernelspec": {
   "display_name": "Python 3",
   "language": "python",
   "name": "python3"
  }
 },
 "nbformat": 4,
 "nbformat_minor": 5
}
