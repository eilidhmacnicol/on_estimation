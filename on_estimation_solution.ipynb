{
 "cells": [
  {
   "cell_type": "markdown",
   "id": "34e7533a",
   "metadata": {},
   "source": [
    "# Some mathematics on least-squares regression\n",
    "\n"
   ]
  },
  {
   "cell_type": "markdown",
   "id": "5be63dec",
   "metadata": {},
   "source": [
    "## Introduction and definitions"
   ]
  },
  {
   "cell_type": "code",
   "execution_count": 1,
   "id": "b4ea71d2",
   "metadata": {
    "execution": {
     "iopub.execute_input": "2022-09-10T21:06:59.703604Z",
     "iopub.status.busy": "2022-09-10T21:06:59.702563Z",
     "iopub.status.idle": "2022-09-10T21:06:59.815492Z",
     "shell.execute_reply": "2022-09-10T21:06:59.814492Z"
    }
   },
   "outputs": [],
   "source": [
    "#: Import numerical and plotting libraries\n",
    "import numpy as np\n",
    "# Print to four digits of precision\n",
    "np.set_printoptions(precision=4, suppress=True)\n",
    "import numpy.linalg as npl"
   ]
  },
  {
   "cell_type": "markdown",
   "id": "6a5a24cc",
   "metadata": {},
   "source": [
    "These exercises are to practice thinking about how the regression estimation\n",
    "works, and the relationship of correlation and regression.\n",
    "\n",
    "To give us some concrete data to play with, here are another couple of samples\n",
    "of the “psychopathy” and “clamminess” scores, of the same type that we saw in\n",
    "the [introduction to the general linear\n",
    "model](https://textbook.nipraxis.org/glm_intro.html):"
   ]
  },
  {
   "cell_type": "code",
   "execution_count": 2,
   "id": "496aaa00",
   "metadata": {
    "execution": {
     "iopub.execute_input": "2022-09-10T21:06:59.822441Z",
     "iopub.status.busy": "2022-09-10T21:06:59.821018Z",
     "iopub.status.idle": "2022-09-10T21:06:59.824579Z",
     "shell.execute_reply": "2022-09-10T21:06:59.825197Z"
    }
   },
   "outputs": [],
   "source": [
    "#: The data, that we are trying to model.\n",
    "psychopathy = np.array([ 11.914,   4.289,  10.825,  14.987,\n",
    "                         7.572,   5.447,   17.332,  12.105,\n",
    "                         13.297,  10.635,  21.777,  20.715])"
   ]
  },
  {
   "cell_type": "code",
   "execution_count": 3,
   "id": "e2ed8a7b",
   "metadata": {
    "execution": {
     "iopub.execute_input": "2022-09-10T21:06:59.832210Z",
     "iopub.status.busy": "2022-09-10T21:06:59.830816Z",
     "iopub.status.idle": "2022-09-10T21:06:59.834372Z",
     "shell.execute_reply": "2022-09-10T21:06:59.835233Z"
    }
   },
   "outputs": [],
   "source": [
    "#: The regressor that we will use to model the data.\n",
    "clammy = np.array([ 0.422,  0.406,  0.061,  0.962,  4.715,\n",
    "                    1.398,  1.952,  5.095, 8.092,  5.685,\n",
    "                    5.167,  7.257])"
   ]
  },
  {
   "cell_type": "markdown",
   "id": "c559bff1",
   "metadata": {},
   "source": [
    "$\\newcommand{\\yvec}{\\vec{y}} \\newcommand{\\xvec}{\\vec{x}} \\newcommand{\\evec}{\\vec{\\varepsilon}}$\n",
    "\n",
    "Our simple linear model can be expressed by:\n",
    "\n",
    "$$\n",
    "y_i = c + bx_i + e_i`\n",
    "$$\n",
    "\n",
    "In vector notation:\n",
    "\n",
    "$$\n",
    "\\yvec = c + b \\xvec + \\evec\n",
    "$$\n",
    "\n",
    "$\\yvec$ is the vector of values $[y_1, y_2, ... y_n]$ we want to explain\n",
    "(psychopathy), $\\xvec$ is the vector of values $[x_1, x_2, ... x_n]$ containing\n",
    "our explanatory variable (clammy), and $\\evec$ is the vector of remaining data\n",
    "unexplained by $c + b \\xvec$.\n",
    "\n",
    "$\\newcommand{Xmat}{\\boldsymbol X} \\newcommand{\\bvec}{\\vec{\\beta}}$\n",
    "\n",
    "The same model can also be expressed using a design *matrix* $\\Xmat$:\n",
    "\n",
    "$$\n",
    "\\yvec = \\Xmat \\bvec + \\evec\n",
    "$$\n",
    "\n",
    "where $\\Xmat$ has two columns, the first being a vector of $n$ ones, and the\n",
    "second being $\\xvec$. $\\bvec$ is a column vector containing two values, $[c,\n",
    "b]$ that are, respectively, the intercept and slope of the fitted line.\n",
    "\n",
    "Now define the *mean* of $\\vec{x}$ as:\n",
    "\n",
    "$$\n",
    "\\bar{x} = \\frac{1}{n} \\sum_{i=1}^n x_i\n",
    "$$\n",
    "\n",
    "Define two new vectors, $\\vec{x^c}, \\vec{y^c}$ that contain the values in\n",
    "$\\vec{x}, \\vec{y}$ with their respective means subtracted:\n",
    "\n",
    "$$\n",
    "\\vec{x^c} = [x_1 - \\bar{x}, x_2 - \\bar{x}, ... , x_n - \\bar{x}]\n",
    "\n",
    "\\vec{y^c} = [y_1 - \\bar{y}, y_2 - \\bar{y}, ... , y_n - \\bar{y}]\n",
    "$$\n",
    "\n",
    "We found in [introduction to the general linear\n",
    "model](https://textbook.nipraxis.org/glm_intro.html) that, for the\n",
    "case of a [full-rank](https://textbook.nipraxis.org) matrix $\\Xmat$, the least\n",
    "squares estimate for $\\bvec$ is given by:\n",
    "\n",
    "$$\n",
    "\\newcommand{\\bhat}{\\hat{\\bvec}} \\newcommand{\\yhat}{\\hat{\\yvec}}\n",
    "\\bhat = (\\Xmat^T \\Xmat)^{-1} \\Xmat^T \\yvec\n",
    "$$"
   ]
  },
  {
   "cell_type": "markdown",
   "id": "7fd5e26c",
   "metadata": {},
   "source": [
    "## On vector lengths\n",
    "\n",
    "In what follows, we will refer to the idea of the *vector length* of a vector.\n",
    "This is different from the number of values in a vector, often written as $n$:"
   ]
  },
  {
   "cell_type": "code",
   "execution_count": 4,
   "id": "e7c6d3c4",
   "metadata": {
    "execution": {
     "iopub.execute_input": "2022-09-10T21:06:59.851194Z",
     "iopub.status.busy": "2022-09-10T21:06:59.850057Z",
     "iopub.status.idle": "2022-09-10T21:06:59.856084Z",
     "shell.execute_reply": "2022-09-10T21:06:59.857119Z"
    }
   },
   "outputs": [],
   "source": [
    "n = len(clammy)\n",
    "n"
   ]
  },
  {
   "cell_type": "markdown",
   "id": "a9acdaf4",
   "metadata": {},
   "source": [
    "In contrast *vector length* is a mathematical property of the vector *values*.\n",
    "See [vectors and dot\n",
    "products](http://matthew-brett.github.io/teaching/on_vectors.html) for the\n",
    "mathematical background.  In summary, vector length is a generalization of\n",
    "Pythagoras' theorem to more than two dimensions, and is defined as the square\n",
    "root of the sum of the squared vector values.  For example, the vector length\n",
    "of `clammy` is:"
   ]
  },
  {
   "cell_type": "code",
   "execution_count": 5,
   "id": "be7ddf47",
   "metadata": {
    "execution": {
     "iopub.execute_input": "2022-09-10T21:06:59.867920Z",
     "iopub.status.busy": "2022-09-10T21:06:59.866853Z",
     "iopub.status.idle": "2022-09-10T21:06:59.870706Z",
     "shell.execute_reply": "2022-09-10T21:06:59.871562Z"
    }
   },
   "outputs": [],
   "source": [
    "np.sqrt(np.sum(clammy ** 2))"
   ]
  },
  {
   "cell_type": "markdown",
   "id": "78e93a9d",
   "metadata": {},
   "source": [
    "Now consider a vector of values for which the mean value is 0.   We can create\n",
    "such a vector by subtracting the mean from the vector values, like this:"
   ]
  },
  {
   "cell_type": "code",
   "execution_count": 6,
   "id": "75a1ec57",
   "metadata": {
    "execution": {
     "iopub.execute_input": "2022-09-10T21:06:59.882574Z",
     "iopub.status.busy": "2022-09-10T21:06:59.881416Z",
     "iopub.status.idle": "2022-09-10T21:06:59.885592Z",
     "shell.execute_reply": "2022-09-10T21:06:59.886312Z"
    }
   },
   "outputs": [],
   "source": [
    "x_1 = clammy - np.mean(clammy)\n",
    "# The mean is (near as the computer can calculate) 0\n",
    "np.mean(x_1)"
   ]
  },
  {
   "cell_type": "markdown",
   "id": "adbb9765",
   "metadata": {},
   "source": [
    "The length of this vector is:"
   ]
  },
  {
   "cell_type": "code",
   "execution_count": 7,
   "id": "5746d7ea",
   "metadata": {
    "execution": {
     "iopub.execute_input": "2022-09-10T21:06:59.895017Z",
     "iopub.status.busy": "2022-09-10T21:06:59.893576Z",
     "iopub.status.idle": "2022-09-10T21:06:59.898439Z",
     "shell.execute_reply": "2022-09-10T21:06:59.899097Z"
    }
   },
   "outputs": [],
   "source": [
    "x_1_len = np.sqrt(np.sum(x_1 ** 2))\n",
    "x_1_len"
   ]
  },
  {
   "cell_type": "markdown",
   "id": "9e6559bb",
   "metadata": {},
   "source": [
    "Here is the *standard deviation* of this vector:"
   ]
  },
  {
   "cell_type": "code",
   "execution_count": 8,
   "id": "6143936d",
   "metadata": {
    "execution": {
     "iopub.execute_input": "2022-09-10T21:06:59.906484Z",
     "iopub.status.busy": "2022-09-10T21:06:59.905283Z",
     "iopub.status.idle": "2022-09-10T21:06:59.909333Z",
     "shell.execute_reply": "2022-09-10T21:06:59.910286Z"
    }
   },
   "outputs": [],
   "source": [
    "x_1_std = np.std(x_1)\n",
    "x_1_std"
   ]
  },
  {
   "cell_type": "markdown",
   "id": "881d873e",
   "metadata": {},
   "source": [
    "Thinking about the calculation of the standard deviation and the calculation of\n",
    "the length, how would you recalculate the standard deviation *from the length*?\n",
    "\n",
    "You may well need a sheet of paper to work out how to do this, with some\n",
    "algebra."
   ]
  },
  {
   "cell_type": "code",
   "execution_count": 9,
   "id": "70ca7525",
   "metadata": {
    "execution": {
     "iopub.execute_input": "2022-09-10T21:06:59.917326Z",
     "iopub.status.busy": "2022-09-10T21:06:59.916216Z",
     "iopub.status.idle": "2022-09-10T21:06:59.920556Z",
     "shell.execute_reply": "2022-09-10T21:06:59.921325Z"
    },
    "lines_to_next_cell": 2
   },
   "outputs": [],
   "source": [
    "# Recalculate the standard deviation from the vector length.\n",
    "std_recalculated = np.sqrt(x_1_len ** 2 / n)\n",
    "# Show the result\n",
    "std_recalculated"
   ]
  },
  {
   "cell_type": "markdown",
   "id": "ff59c853",
   "metadata": {},
   "source": [
    "Conversely, calculate the vector length from the standard deviation:"
   ]
  },
  {
   "cell_type": "code",
   "execution_count": 10,
   "id": "74de58f3",
   "metadata": {
    "execution": {
     "iopub.execute_input": "2022-09-10T21:06:59.928524Z",
     "iopub.status.busy": "2022-09-10T21:06:59.926312Z",
     "iopub.status.idle": "2022-09-10T21:06:59.933034Z",
     "shell.execute_reply": "2022-09-10T21:06:59.932314Z"
    }
   },
   "outputs": [],
   "source": [
    "# Recalculate the vector length from the standard deviation\n",
    "vlen_recalculated = np.sqrt(x_1_std ** 2 * n)\n",
    "# Show the result\n",
    "vlen_recalculated"
   ]
  },
  {
   "cell_type": "markdown",
   "id": "26501c8e",
   "metadata": {},
   "source": [
    "## On dot products\n",
    "\n",
    "The *dot product* is the sum of the values in a vector that results from\n",
    "multiplying the two vectors together, elementwise.\n",
    "\n",
    "For example, to calculate the dot product of `psychopathy` and `clammy`, we\n",
    "first multiply the two vectors together, elementwise:"
   ]
  },
  {
   "cell_type": "code",
   "execution_count": 11,
   "id": "39bcc2fe",
   "metadata": {
    "execution": {
     "iopub.execute_input": "2022-09-10T21:06:59.940236Z",
     "iopub.status.busy": "2022-09-10T21:06:59.938966Z",
     "iopub.status.idle": "2022-09-10T21:06:59.943218Z",
     "shell.execute_reply": "2022-09-10T21:06:59.943923Z"
    }
   },
   "outputs": [],
   "source": [
    "multiplied = clammy * psychopathy\n",
    "multiplied"
   ]
  },
  {
   "cell_type": "markdown",
   "id": "125a5ecb",
   "metadata": {},
   "source": [
    "The dot product is the sum of the values in `multiplied`:"
   ]
  },
  {
   "cell_type": "code",
   "execution_count": 12,
   "id": "b9ecb54b",
   "metadata": {
    "execution": {
     "iopub.execute_input": "2022-09-10T21:06:59.951240Z",
     "iopub.status.busy": "2022-09-10T21:06:59.950151Z",
     "iopub.status.idle": "2022-09-10T21:06:59.954077Z",
     "shell.execute_reply": "2022-09-10T21:06:59.955160Z"
    }
   },
   "outputs": [],
   "source": [
    "np.sum(multiplied)"
   ]
  },
  {
   "cell_type": "markdown",
   "id": "0869544a",
   "metadata": {},
   "source": [
    "And in general:"
   ]
  },
  {
   "cell_type": "code",
   "execution_count": 13,
   "id": "f9893dfc",
   "metadata": {
    "execution": {
     "iopub.execute_input": "2022-09-10T21:06:59.962988Z",
     "iopub.status.busy": "2022-09-10T21:06:59.961691Z",
     "iopub.status.idle": "2022-09-10T21:06:59.964384Z",
     "shell.execute_reply": "2022-09-10T21:06:59.965276Z"
    }
   },
   "outputs": [],
   "source": [
    "def dot_product(x, y):\n",
    "    return np.sum(x * y)"
   ]
  },
  {
   "cell_type": "code",
   "execution_count": 14,
   "id": "a5cdd52a",
   "metadata": {
    "execution": {
     "iopub.execute_input": "2022-09-10T21:06:59.973768Z",
     "iopub.status.busy": "2022-09-10T21:06:59.972212Z",
     "iopub.status.idle": "2022-09-10T21:06:59.976603Z",
     "shell.execute_reply": "2022-09-10T21:06:59.977283Z"
    }
   },
   "outputs": [],
   "source": [
    "dot_product(clammy, psychopathy)"
   ]
  },
  {
   "cell_type": "markdown",
   "id": "eb25a240",
   "metadata": {},
   "source": [
    "Numpy also has a short-cut for the dot-product operation, because it is so\n",
    "common:"
   ]
  },
  {
   "cell_type": "code",
   "execution_count": 15,
   "id": "852fb032",
   "metadata": {
    "execution": {
     "iopub.execute_input": "2022-09-10T21:06:59.984474Z",
     "iopub.status.busy": "2022-09-10T21:06:59.983016Z",
     "iopub.status.idle": "2022-09-10T21:06:59.987289Z",
     "shell.execute_reply": "2022-09-10T21:06:59.988040Z"
    }
   },
   "outputs": [],
   "source": [
    "np.dot(clammy, psychopathy)"
   ]
  },
  {
   "cell_type": "markdown",
   "id": "87b21e26",
   "metadata": {},
   "source": [
    "In fact, this is what you get when using the `@` operator in Numpy, called the\n",
    "*matrix multiplication* operator, when applied to two vectors:"
   ]
  },
  {
   "cell_type": "code",
   "execution_count": 16,
   "id": "422ffa35",
   "metadata": {
    "execution": {
     "iopub.execute_input": "2022-09-10T21:06:59.996262Z",
     "iopub.status.busy": "2022-09-10T21:06:59.995113Z",
     "iopub.status.idle": "2022-09-10T21:06:59.998862Z",
     "shell.execute_reply": "2022-09-10T21:06:59.999517Z"
    }
   },
   "outputs": [],
   "source": [
    "clammy @ psychopathy"
   ]
  },
  {
   "cell_type": "markdown",
   "id": "6f4caf7f",
   "metadata": {},
   "source": [
    "Have a look at the definitions of *vector length* and the dot product.  How\n",
    "would you calculate the vector length from the dot product of the vector with\n",
    "itself?"
   ]
  },
  {
   "cell_type": "code",
   "execution_count": 17,
   "id": "27d107bf",
   "metadata": {
    "execution": {
     "iopub.execute_input": "2022-09-10T21:07:00.006880Z",
     "iopub.status.busy": "2022-09-10T21:07:00.005659Z",
     "iopub.status.idle": "2022-09-10T21:07:00.009977Z",
     "shell.execute_reply": "2022-09-10T21:07:00.010640Z"
    }
   },
   "outputs": [],
   "source": [
    "#- Recalculate the vector length using the dot product of the vector with itself\n",
    "c_dot_c = clammy @ clammy\n",
    "np.sqrt(c_dot_c)"
   ]
  },
  {
   "cell_type": "markdown",
   "id": "78f6135f",
   "metadata": {},
   "source": [
    "## Correlation coefficient and regression\n",
    "\n",
    "Create the $\\Xmat$ matrix from a vector of ones and the vector of `clammy`\n",
    "scores:"
   ]
  },
  {
   "cell_type": "code",
   "execution_count": 18,
   "id": "5c66e7a8",
   "metadata": {
    "execution": {
     "iopub.execute_input": "2022-09-10T21:07:00.018359Z",
     "iopub.status.busy": "2022-09-10T21:07:00.017317Z",
     "iopub.status.idle": "2022-09-10T21:07:00.021086Z",
     "shell.execute_reply": "2022-09-10T21:07:00.021746Z"
    }
   },
   "outputs": [],
   "source": [
    "#- Create X design matrix from column of ones and clammy vector\n",
    "X = np.stack([np.ones(n), clammy], axis=1)\n",
    "# Show the result.\n",
    "X"
   ]
  },
  {
   "cell_type": "markdown",
   "id": "aaff2285",
   "metadata": {},
   "source": [
    "Are the columns of `X` orthogonal to each other?\n",
    "\n",
    "Two *vectors* are defined as being orthogonal to each other if the *dot\n",
    "product* of the two vectors is zero."
   ]
  },
  {
   "cell_type": "code",
   "execution_count": 19,
   "id": "c4c4fe16",
   "metadata": {
    "execution": {
     "iopub.execute_input": "2022-09-10T21:07:00.029967Z",
     "iopub.status.busy": "2022-09-10T21:07:00.028608Z",
     "iopub.status.idle": "2022-09-10T21:07:00.033222Z",
     "shell.execute_reply": "2022-09-10T21:07:00.034035Z"
    }
   },
   "outputs": [],
   "source": [
    "#- Are the two columns of X orthogonal?\n",
    "X[:, 0] @ X[:, 1]"
   ]
  },
  {
   "cell_type": "markdown",
   "id": "c767998f",
   "metadata": {},
   "source": [
    "We will now calculate the pseudoinverse.\n",
    "\n",
    "First we calculate $\\Xmat^T \\Xmat$:"
   ]
  },
  {
   "cell_type": "code",
   "execution_count": 20,
   "id": "a22cc91c",
   "metadata": {
    "execution": {
     "iopub.execute_input": "2022-09-10T21:07:00.041701Z",
     "iopub.status.busy": "2022-09-10T21:07:00.040720Z",
     "iopub.status.idle": "2022-09-10T21:07:00.045033Z",
     "shell.execute_reply": "2022-09-10T21:07:00.045704Z"
    }
   },
   "outputs": [],
   "source": [
    "XtX = X.T @  X\n",
    "XtX"
   ]
  },
  {
   "cell_type": "markdown",
   "id": "7de217ee",
   "metadata": {},
   "source": [
    "*For extra points* : does this matrix help us with the question as to whether\n",
    "the columns are orthogonal?  How?\n",
    "\n",
    "Calculated the matrix inverse of $\\Xmat^T \\Xmat$:"
   ]
  },
  {
   "cell_type": "code",
   "execution_count": 21,
   "id": "c4ea895b",
   "metadata": {
    "execution": {
     "iopub.execute_input": "2022-09-10T21:07:00.053149Z",
     "iopub.status.busy": "2022-09-10T21:07:00.051956Z",
     "iopub.status.idle": "2022-09-10T21:07:00.059905Z",
     "shell.execute_reply": "2022-09-10T21:07:00.060917Z"
    }
   },
   "outputs": [],
   "source": [
    "#- Matrix inverse of X.T @ X\n",
    "iXtX = npl.inv(XtX)\n",
    "# Show the result\n",
    "iXtX"
   ]
  },
  {
   "cell_type": "markdown",
   "id": "90a33d8f",
   "metadata": {},
   "source": [
    "If you can calculate the inverse without error, that means that $\\Xmat^T \\Xmat$\n",
    "is *invertible*.\n",
    "\n",
    "Calculate $(\\Xmat^T \\Xmat)^{-1} \\Xmat^T$ (the pseudoinverse in the invertible\n",
    "case).  What shape is it?"
   ]
  },
  {
   "cell_type": "code",
   "execution_count": 22,
   "id": "a058013d",
   "metadata": {
    "execution": {
     "iopub.execute_input": "2022-09-10T21:07:00.068618Z",
     "iopub.status.busy": "2022-09-10T21:07:00.067185Z",
     "iopub.status.idle": "2022-09-10T21:07:00.071853Z",
     "shell.execute_reply": "2022-09-10T21:07:00.072520Z"
    }
   },
   "outputs": [],
   "source": [
    "#- Calculate (X.T X)^-1 X.T (the pseudoinverse)\n",
    "piX = iXtX @ X.T\n",
    "# Show the shape\n",
    "piX.shape"
   ]
  },
  {
   "cell_type": "markdown",
   "id": "57000df1",
   "metadata": {},
   "source": [
    "Calculate the least squares fit value for $\\bvec$:"
   ]
  },
  {
   "cell_type": "code",
   "execution_count": 23,
   "id": "55c9108a",
   "metadata": {
    "execution": {
     "iopub.execute_input": "2022-09-10T21:07:00.081046Z",
     "iopub.status.busy": "2022-09-10T21:07:00.079738Z",
     "iopub.status.idle": "2022-09-10T21:07:00.083993Z",
     "shell.execute_reply": "2022-09-10T21:07:00.084912Z"
    }
   },
   "outputs": [],
   "source": [
    "#- Calculate least squares fit for beta vector\n",
    "B = piX @ psychopathy\n",
    "B"
   ]
  },
  {
   "cell_type": "markdown",
   "id": "af1c94b8",
   "metadata": {},
   "source": [
    "Calculate the fitted values $c + b \\xvec$, and the residuals $\\evec$:"
   ]
  },
  {
   "cell_type": "code",
   "execution_count": 24,
   "id": "377d3aef",
   "metadata": {
    "execution": {
     "iopub.execute_input": "2022-09-10T21:07:00.092015Z",
     "iopub.status.busy": "2022-09-10T21:07:00.090328Z",
     "iopub.status.idle": "2022-09-10T21:07:00.095556Z",
     "shell.execute_reply": "2022-09-10T21:07:00.094690Z"
    }
   },
   "outputs": [],
   "source": [
    "#- Calculate the fitted values\n",
    "fitted = X @ B\n",
    "residuals = psychopathy - fitted"
   ]
  },
  {
   "cell_type": "markdown",
   "id": "863bd28d",
   "metadata": {},
   "source": [
    "Confirm that the mean of the residuals is close to zero:"
   ]
  },
  {
   "cell_type": "code",
   "execution_count": 25,
   "id": "f1c4864a",
   "metadata": {
    "execution": {
     "iopub.execute_input": "2022-09-10T21:07:00.103432Z",
     "iopub.status.busy": "2022-09-10T21:07:00.102019Z",
     "iopub.status.idle": "2022-09-10T21:07:00.107014Z",
     "shell.execute_reply": "2022-09-10T21:07:00.107688Z"
    }
   },
   "outputs": [],
   "source": [
    "#- mean of residuals near zero\n",
    "np.allclose(np.mean(residuals), 0)"
   ]
  },
  {
   "cell_type": "markdown",
   "id": "b8611f86",
   "metadata": {},
   "source": [
    "Confirm that residuals are orthogonal to both columns of the design matrix:"
   ]
  },
  {
   "cell_type": "code",
   "execution_count": 26,
   "id": "02037a7d",
   "metadata": {
    "execution": {
     "iopub.execute_input": "2022-09-10T21:07:00.115790Z",
     "iopub.status.busy": "2022-09-10T21:07:00.114080Z",
     "iopub.status.idle": "2022-09-10T21:07:00.119081Z",
     "shell.execute_reply": "2022-09-10T21:07:00.119858Z"
    }
   },
   "outputs": [],
   "source": [
    "#- Show residuals orthogonal to both columns of design\n",
    "np.allclose(X.T @ residuals, 0)"
   ]
  },
  {
   "cell_type": "markdown",
   "id": "36e946ee",
   "metadata": {},
   "source": [
    "We will now modify the design to see what happens to the parameters and the\n",
    "fitted values.\n",
    "\n",
    "We build the new design by leaving the first columns the same (a column of\n",
    "ones).   Then we change the second column (the `clammy` values) so that it is\n",
    "*orthogonal to* the first.  We can do that by subtracting the mean from the\n",
    "`clammy` vector:"
   ]
  },
  {
   "cell_type": "code",
   "execution_count": 27,
   "id": "00df2094",
   "metadata": {
    "execution": {
     "iopub.execute_input": "2022-09-10T21:07:00.127846Z",
     "iopub.status.busy": "2022-09-10T21:07:00.126056Z",
     "iopub.status.idle": "2022-09-10T21:07:00.129294Z",
     "shell.execute_reply": "2022-09-10T21:07:00.129998Z"
    }
   },
   "outputs": [],
   "source": [
    "x_1 = clammy - np.mean(clammy)"
   ]
  },
  {
   "cell_type": "markdown",
   "id": "19e4bce0",
   "metadata": {},
   "source": [
    "Confirm that `x_1` is orthogonal to the column of ones:"
   ]
  },
  {
   "cell_type": "code",
   "execution_count": 28,
   "id": "9ba0f0bc",
   "metadata": {
    "execution": {
     "iopub.execute_input": "2022-09-10T21:07:00.137252Z",
     "iopub.status.busy": "2022-09-10T21:07:00.135961Z",
     "iopub.status.idle": "2022-09-10T21:07:00.140691Z",
     "shell.execute_reply": "2022-09-10T21:07:00.141404Z"
    }
   },
   "outputs": [],
   "source": [
    "#- Show x_1 orthogonal to a column of ones\n",
    "x_1 @ np.ones(n)"
   ]
  },
  {
   "cell_type": "markdown",
   "id": "9d98c326",
   "metadata": {},
   "source": [
    "Compile the column of ones and the new regressor into an `n` by 2 design matrix\n",
    "`X_o`:"
   ]
  },
  {
   "cell_type": "code",
   "execution_count": 29,
   "id": "fe04b349",
   "metadata": {
    "execution": {
     "iopub.execute_input": "2022-09-10T21:07:00.150017Z",
     "iopub.status.busy": "2022-09-10T21:07:00.148553Z",
     "iopub.status.idle": "2022-09-10T21:07:00.153257Z",
     "shell.execute_reply": "2022-09-10T21:07:00.153914Z"
    }
   },
   "outputs": [],
   "source": [
    "X_o = np.stack([np.ones(n), x_1], axis=1)\n",
    "# Show the result\n",
    "X_o"
   ]
  },
  {
   "cell_type": "markdown",
   "id": "870b663f",
   "metadata": {},
   "source": [
    "Here is the matrix that we will invert to make the pseudoinverse:"
   ]
  },
  {
   "cell_type": "code",
   "execution_count": 30,
   "id": "bac621b1",
   "metadata": {
    "execution": {
     "iopub.execute_input": "2022-09-10T21:07:00.163142Z",
     "iopub.status.busy": "2022-09-10T21:07:00.162032Z",
     "iopub.status.idle": "2022-09-10T21:07:00.167017Z",
     "shell.execute_reply": "2022-09-10T21:07:00.168143Z"
    }
   },
   "outputs": [],
   "source": [
    "XtX_o = X_o.T @ X_o\n",
    "XtX_o"
   ]
  },
  {
   "cell_type": "markdown",
   "id": "581a0de3",
   "metadata": {},
   "source": [
    "Look at the diagonal values of the matrix `X_o.T @ X_o`.  What is the\n",
    "relationship of these values to the *vector lengths* of the vectors in the\n",
    "first and second columns of `X_o`?\n",
    "\n",
    "Find the new value for $(\\Xmat^T \\Xmat)^{-1}$ – the inverse of `X_o.T @ X_o`."
   ]
  },
  {
   "cell_type": "code",
   "execution_count": 31,
   "id": "7f720a5b",
   "metadata": {
    "execution": {
     "iopub.execute_input": "2022-09-10T21:07:00.176621Z",
     "iopub.status.busy": "2022-09-10T21:07:00.175148Z",
     "iopub.status.idle": "2022-09-10T21:07:00.179869Z",
     "shell.execute_reply": "2022-09-10T21:07:00.180573Z"
    }
   },
   "outputs": [],
   "source": [
    "iXtX_o = npl.inv(XtX_o)\n",
    "# Show the result\n",
    "iXtX_o"
   ]
  },
  {
   "cell_type": "markdown",
   "id": "02be8a8e",
   "metadata": {},
   "source": [
    "What is the relationship of the values in the diagonal of the inverse matrix to\n",
    "the lengths of the vectors in the first and second columns of `X_o`?\n",
    "\n",
    "*Hint*: $A^{-1} \\cdot A = I$; if $A$ has all zeros off the diagonal, what must\n",
    "$A^{-1}$ be for this to be true?\n",
    "\n",
    "Make a new data vector `y_c` by subtracting the mean from the psychopathy\n",
    "vector:"
   ]
  },
  {
   "cell_type": "code",
   "execution_count": 32,
   "id": "619e3c69",
   "metadata": {
    "execution": {
     "iopub.execute_input": "2022-09-10T21:07:00.188849Z",
     "iopub.status.busy": "2022-09-10T21:07:00.187473Z",
     "iopub.status.idle": "2022-09-10T21:07:00.192507Z",
     "shell.execute_reply": "2022-09-10T21:07:00.193180Z"
    }
   },
   "outputs": [],
   "source": [
    "#- Make mean-centered version of psychopathy vector\n",
    "y_c = psychopathy - np.mean(psychopathy)\n",
    "# Show the result\n",
    "y_c"
   ]
  },
  {
   "cell_type": "markdown",
   "id": "f7e88d7e",
   "metadata": {},
   "source": [
    "Calculate a new `B_o` parameter vector for the least-squares fit of `X_o`\n",
    "to `y_c`:"
   ]
  },
  {
   "cell_type": "code",
   "execution_count": 33,
   "id": "79306f89",
   "metadata": {
    "execution": {
     "iopub.execute_input": "2022-09-10T21:07:00.200837Z",
     "iopub.status.busy": "2022-09-10T21:07:00.199676Z",
     "iopub.status.idle": "2022-09-10T21:07:00.203839Z",
     "shell.execute_reply": "2022-09-10T21:07:00.204650Z"
    }
   },
   "outputs": [],
   "source": [
    "#- Calculate fit of X_o to y_c\n",
    "B_o = iXtX_o @ X_o.T @ y_c\n",
    "# Show the result\n",
    "B_o"
   ]
  },
  {
   "cell_type": "markdown",
   "id": "5c806d82",
   "metadata": {},
   "source": [
    "The first parameter has changed compared to your previous estimate.  Can you\n",
    "explain why it has this new value by considering the values of $(\\Xmat^T\n",
    "\\Xmat)^{-1} \\Xmat^T \\yvec$?\n",
    "\n",
    "Calculate the correlation coefficient between `y_c` and the second column of\n",
    "`X_o`.  In case you want to play it that way, here's a function to calculate\n",
    "z-scores (standard scores), that you could use to calculate the correlation."
   ]
  },
  {
   "cell_type": "code",
   "execution_count": 34,
   "id": "570f9f03",
   "metadata": {
    "execution": {
     "iopub.execute_input": "2022-09-10T21:07:00.211157Z",
     "iopub.status.busy": "2022-09-10T21:07:00.209970Z",
     "iopub.status.idle": "2022-09-10T21:07:00.213722Z",
     "shell.execute_reply": "2022-09-10T21:07:00.212901Z"
    }
   },
   "outputs": [],
   "source": [
    "def standard_scores(v):\n",
    "    return (v - np.mean(v)) / np.std(v)"
   ]
  },
  {
   "cell_type": "code",
   "execution_count": 35,
   "id": "dd24686b",
   "metadata": {
    "execution": {
     "iopub.execute_input": "2022-09-10T21:07:00.221253Z",
     "iopub.status.busy": "2022-09-10T21:07:00.220005Z",
     "iopub.status.idle": "2022-09-10T21:07:00.225192Z",
     "shell.execute_reply": "2022-09-10T21:07:00.225968Z"
    }
   },
   "outputs": [],
   "source": [
    "#- Correlation coefficient of the second column of X_o and y_c\n",
    "r_xy = np.mean(standard_scores(x_1) * standard_scores(y_c))\n",
    "# Show the result\n",
    "r_xy"
   ]
  },
  {
   "cell_type": "markdown",
   "id": "a5126efb",
   "metadata": {},
   "source": [
    "Next we explore the relationship between this correlation coefficient and `x_1`\n",
    "— the second column of the design matrix.\n",
    "\n",
    "First - consider the calculation that gave us the value for the slope:"
   ]
  },
  {
   "cell_type": "code",
   "execution_count": 36,
   "id": "739e01a7",
   "metadata": {
    "execution": {
     "iopub.execute_input": "2022-09-10T21:07:00.233297Z",
     "iopub.status.busy": "2022-09-10T21:07:00.232097Z",
     "iopub.status.idle": "2022-09-10T21:07:00.236608Z",
     "shell.execute_reply": "2022-09-10T21:07:00.237396Z"
    }
   },
   "outputs": [],
   "source": [
    "# The regression slope.\n",
    "b = B_o[1]\n",
    "b"
   ]
  },
  {
   "cell_type": "markdown",
   "id": "0756bdaf",
   "metadata": {},
   "source": [
    "We got this value via:"
   ]
  },
  {
   "cell_type": "code",
   "execution_count": 37,
   "id": "d8f447b8",
   "metadata": {
    "execution": {
     "iopub.execute_input": "2022-09-10T21:07:00.245351Z",
     "iopub.status.busy": "2022-09-10T21:07:00.244126Z",
     "iopub.status.idle": "2022-09-10T21:07:00.248608Z",
     "shell.execute_reply": "2022-09-10T21:07:00.249291Z"
    }
   },
   "outputs": [],
   "source": [
    "B_o = npl.inv(X_o.T @ X_o) @ X_o.T @ y_c\n",
    "B_o"
   ]
  },
  {
   "cell_type": "markdown",
   "id": "e5d8557f",
   "metadata": {},
   "source": [
    "We can break this calculation up into:"
   ]
  },
  {
   "cell_type": "code",
   "execution_count": 38,
   "id": "743b9951",
   "metadata": {
    "execution": {
     "iopub.execute_input": "2022-09-10T21:07:00.257699Z",
     "iopub.status.busy": "2022-09-10T21:07:00.256010Z",
     "iopub.status.idle": "2022-09-10T21:07:00.261222Z",
     "shell.execute_reply": "2022-09-10T21:07:00.261897Z"
    }
   },
   "outputs": [],
   "source": [
    "# First part.\n",
    "iXtX_o = npl.inv(X_o.T @ X_o)\n",
    "# Second part\n",
    "XtY_o = X_o.T @ y_c\n",
    "# Result (B_o)\n",
    "iXtX_o @ XtY_o"
   ]
  },
  {
   "cell_type": "markdown",
   "id": "b142c427",
   "metadata": {},
   "source": [
    "Consider the second part of the calculation:"
   ]
  },
  {
   "cell_type": "code",
   "execution_count": 39,
   "id": "4e477a96",
   "metadata": {
    "execution": {
     "iopub.execute_input": "2022-09-10T21:07:00.269184Z",
     "iopub.status.busy": "2022-09-10T21:07:00.267892Z",
     "iopub.status.idle": "2022-09-10T21:07:00.272315Z",
     "shell.execute_reply": "2022-09-10T21:07:00.272972Z"
    }
   },
   "outputs": [],
   "source": [
    "XtY_o"
   ]
  },
  {
   "cell_type": "markdown",
   "id": "ba1c3926",
   "metadata": {},
   "source": [
    "This has two values:\n",
    "\n",
    "* `B_o[0]`: the dot product of the vector of ones with `y_c`\n",
    "* `B_o[1]`: the dot product of `x_1` with `y_c`\n",
    "\n",
    "Now consider the first part of the calculation:"
   ]
  },
  {
   "cell_type": "code",
   "execution_count": 40,
   "id": "388b0e44",
   "metadata": {
    "execution": {
     "iopub.execute_input": "2022-09-10T21:07:00.280448Z",
     "iopub.status.busy": "2022-09-10T21:07:00.279065Z",
     "iopub.status.idle": "2022-09-10T21:07:00.283848Z",
     "shell.execute_reply": "2022-09-10T21:07:00.284553Z"
    }
   },
   "outputs": [],
   "source": [
    "iXtX_o"
   ]
  },
  {
   "cell_type": "markdown",
   "id": "c4e3fa4a",
   "metadata": {},
   "source": [
    "Remember, this is just the inverse of:"
   ]
  },
  {
   "cell_type": "code",
   "execution_count": 41,
   "id": "1a87cf87",
   "metadata": {
    "execution": {
     "iopub.execute_input": "2022-09-10T21:07:00.292997Z",
     "iopub.status.busy": "2022-09-10T21:07:00.291389Z",
     "iopub.status.idle": "2022-09-10T21:07:00.296693Z",
     "shell.execute_reply": "2022-09-10T21:07:00.297414Z"
    }
   },
   "outputs": [],
   "source": [
    "XtX_o = X_o.T @ X_o\n",
    "XtX_o"
   ]
  },
  {
   "cell_type": "markdown",
   "id": "e618cafe",
   "metadata": {},
   "source": [
    "Matrix multiplication (`@`) takes the dot products of each left row with each\n",
    "right column.  As you may have noticed above, this means the elements on the\n",
    "diagonal are just the vector lengths of each column.  Because the columns are\n",
    "orthogonal, the off-diagonal elements are all 0.\n",
    "\n",
    "The [inverse of a diagonal matrix](https://textbook.nipraxis.org/diag_inverse)\n",
    "is another diagonal matrix where the diagonal elements are given by the\n",
    "reciprocals of the diagonal elements in the original array:"
   ]
  },
  {
   "cell_type": "code",
   "execution_count": 42,
   "id": "61f3b3b9",
   "metadata": {
    "execution": {
     "iopub.execute_input": "2022-09-10T21:07:00.304133Z",
     "iopub.status.busy": "2022-09-10T21:07:00.303011Z",
     "iopub.status.idle": "2022-09-10T21:07:00.307656Z",
     "shell.execute_reply": "2022-09-10T21:07:00.308670Z"
    }
   },
   "outputs": [],
   "source": [
    "print('First diagonal element', 1 / XtX_o[0, 0])\n",
    "print('Second diagonal element', 1 / XtX_o[1, 1])"
   ]
  },
  {
   "cell_type": "markdown",
   "id": "beea6d20",
   "metadata": {},
   "source": [
    "Remember `x_1` is the second column of `X_o`.\n",
    "\n",
    "Now consider the whole calculation that leads up to `B_o`.  Reproduce the\n",
    "calculation of `B_o[1]`, without using matrix multiplication, and given:\n",
    "\n",
    "* the vector length of `x_1`\n",
    "* the dot product of `x_1` and `y_c`\n",
    "\n",
    "Here is the length:"
   ]
  },
  {
   "cell_type": "code",
   "execution_count": 43,
   "id": "91094c9d",
   "metadata": {
    "execution": {
     "iopub.execute_input": "2022-09-10T21:07:00.316345Z",
     "iopub.status.busy": "2022-09-10T21:07:00.314985Z",
     "iopub.status.idle": "2022-09-10T21:07:00.319149Z",
     "shell.execute_reply": "2022-09-10T21:07:00.320245Z"
    }
   },
   "outputs": [],
   "source": [
    "x_1_len = np.sqrt(x_1 @ x_1)\n",
    "x_1_len"
   ]
  },
  {
   "cell_type": "markdown",
   "id": "c7e35e13",
   "metadata": {},
   "source": [
    "Here's the dot product:"
   ]
  },
  {
   "cell_type": "code",
   "execution_count": 44,
   "id": "150d5371",
   "metadata": {
    "execution": {
     "iopub.execute_input": "2022-09-10T21:07:00.329273Z",
     "iopub.status.busy": "2022-09-10T21:07:00.327854Z",
     "iopub.status.idle": "2022-09-10T21:07:00.332597Z",
     "shell.execute_reply": "2022-09-10T21:07:00.333363Z"
    }
   },
   "outputs": [],
   "source": [
    "x_dot_y = x_1 @ y_c\n",
    "x_dot_y"
   ]
  },
  {
   "cell_type": "code",
   "execution_count": 45,
   "id": "b682b433",
   "metadata": {
    "execution": {
     "iopub.execute_input": "2022-09-10T21:07:00.340543Z",
     "iopub.status.busy": "2022-09-10T21:07:00.339285Z",
     "iopub.status.idle": "2022-09-10T21:07:00.343510Z",
     "shell.execute_reply": "2022-09-10T21:07:00.344188Z"
    }
   },
   "outputs": [],
   "source": [
    "b_reproduced = 1 / x_1_len ** 2 * x_dot_y\n",
    "# Show the result\n",
    "b_reproduced"
   ]
  },
  {
   "cell_type": "markdown",
   "id": "650fd26c",
   "metadata": {},
   "source": [
    "Now we return to the correlation coefficient.\n",
    "\n",
    "Remember this is given by first subtracting the mean from each vector, then\n",
    "multiplying the resulting mean-centered vectors, to give the elementwise\n",
    "product, then taking the mean of the elementwise product.\n",
    "\n",
    "Remember that `x_1` and `x_c` already have mean zero.\n",
    "\n",
    "Consider the calculation of the correlation coefficient, and that of the dot\n",
    "product `x_dot_y` above.\n",
    "\n",
    "Reconstruct `x_dot_y` above from the correlation coefficient, `n`,\n",
    "`np.std(y_c)` and `np.std(x_1)`:"
   ]
  },
  {
   "cell_type": "code",
   "execution_count": 46,
   "id": "18f667be",
   "metadata": {
    "execution": {
     "iopub.execute_input": "2022-09-10T21:07:00.352558Z",
     "iopub.status.busy": "2022-09-10T21:07:00.351279Z",
     "iopub.status.idle": "2022-09-10T21:07:00.355865Z",
     "shell.execute_reply": "2022-09-10T21:07:00.356877Z"
    },
    "lines_to_next_cell": 2
   },
   "outputs": [],
   "source": [
    "y_c_std = np.std(y_c)\n",
    "x_dot_y_reconstructed = r_xy * n * y_c_std * x_1_std\n",
    "# Show the result\n",
    "x_dot_y_reconstructed"
   ]
  },
  {
   "cell_type": "markdown",
   "id": "c689d54a",
   "metadata": {},
   "source": [
    "Remember the relationships you found above:\n",
    "\n",
    "* Between the standard deviation and the vector length.\n",
    "* Between the dot product of two zero-mean vectors and the correlation.\n",
    "\n",
    "See if you can use a reworking of your formula above to reconstruct `B_o[1]`\n",
    "with a calculation using only:\n",
    "\n",
    "* `r_xy` (the correlation)\n",
    "* `x_1_std`\n",
    "* `y_c_std`\n",
    "* `n` (if you need it).\n",
    "\n",
    "Try simplifying the calculation as far as possible."
   ]
  },
  {
   "cell_type": "code",
   "execution_count": 47,
   "id": "88141307",
   "metadata": {
    "execution": {
     "iopub.execute_input": "2022-09-10T21:07:00.366140Z",
     "iopub.status.busy": "2022-09-10T21:07:00.364714Z",
     "iopub.status.idle": "2022-09-10T21:07:00.369334Z",
     "shell.execute_reply": "2022-09-10T21:07:00.370063Z"
    }
   },
   "outputs": [],
   "source": [
    "b_reproduced_again = r_xy *  y_c_std / x_1_std\n",
    "# Show the result\n",
    "b_reproduced_again"
   ]
  },
  {
   "cell_type": "markdown",
   "id": "2e97267f",
   "metadata": {},
   "source": [
    "Did you get the same calculation as you saw in [on\n",
    "regression](https://textbook.nipraxis.org/on_regression)?"
   ]
  },
  {
   "cell_type": "markdown",
   "id": "ddf8f2e6",
   "metadata": {},
   "source": [
    "## Different models, different parameters\n",
    "\n",
    "Now try calculating $\\bvec$ fitting the `X_o` design to the original\n",
    "psychopathy data (not the mean-centered version)."
   ]
  },
  {
   "cell_type": "code",
   "execution_count": 48,
   "id": "4e1c08ec",
   "metadata": {
    "execution": {
     "iopub.execute_input": "2022-09-10T21:07:00.379021Z",
     "iopub.status.busy": "2022-09-10T21:07:00.377000Z",
     "iopub.status.idle": "2022-09-10T21:07:00.382586Z",
     "shell.execute_reply": "2022-09-10T21:07:00.383279Z"
    }
   },
   "outputs": [],
   "source": [
    "#- Fit X_o to psychopathy data\n",
    "B_o = iXtX @ X_o.T @ psychopathy\n",
    "# Show the result\n",
    "B_o"
   ]
  },
  {
   "cell_type": "markdown",
   "id": "de62e147",
   "metadata": {},
   "source": [
    "Compare the first value in the new `B_o` parameter vector with the mean of\n",
    "the `psychpathy` vector."
   ]
  },
  {
   "cell_type": "code",
   "execution_count": 49,
   "id": "202a14f5",
   "metadata": {
    "execution": {
     "iopub.execute_input": "2022-09-10T21:07:00.403228Z",
     "iopub.status.busy": "2022-09-10T21:07:00.400800Z",
     "iopub.status.idle": "2022-09-10T21:07:00.408629Z",
     "shell.execute_reply": "2022-09-10T21:07:00.410031Z"
    }
   },
   "outputs": [],
   "source": [
    "np.mean(psychopathy)"
   ]
  },
  {
   "cell_type": "markdown",
   "id": "78f45cf4",
   "metadata": {},
   "source": [
    "Can you explain the relationship?\n",
    "\n",
    "For extra points, can you explain why the second value in `B_o` did not\n",
    "change when we estimated for `psychopathy` rather than the mean-centered\n",
    "version `y_c`?  Hint: remember $(\\vec{a} + \\vec{b}) \\cdot \\vec{c} = \\vec{a}\n",
    "\\cdot \\vec{c} + \\vec{b} \\cdot \\vec{c}$.\n",
    "\n",
    "Calculate the fitted values for the `X_o` model, and compare them to the\n",
    "fitted values for the original model:"
   ]
  },
  {
   "cell_type": "code",
   "execution_count": 50,
   "id": "933a9986",
   "metadata": {
    "execution": {
     "iopub.execute_input": "2022-09-10T21:07:00.419553Z",
     "iopub.status.busy": "2022-09-10T21:07:00.418030Z",
     "iopub.status.idle": "2022-09-10T21:07:00.422760Z",
     "shell.execute_reply": "2022-09-10T21:07:00.423955Z"
    }
   },
   "outputs": [],
   "source": [
    "fitted_X_o = X_o @ B_o\n",
    "np.allclose(fitted_X_o, fitted)"
   ]
  },
  {
   "cell_type": "markdown",
   "id": "e04a672b",
   "metadata": {},
   "source": [
    "For even more extra points, explain the relationship between the fitted values\n",
    "for the original model and those for the new model, where the clammy regressor\n",
    "is mean centered."
   ]
  }
 ],
 "metadata": {
  "jupytext": {
   "notebook_metadata_filter": "all,-language_info",
   "split_at_heading": true,
   "text_representation": {
    "extension": ".Rmd",
    "format_name": "rmarkdown",
    "format_version": "1.2",
    "jupytext_version": "1.10.3"
   }
  },
  "kernelspec": {
   "display_name": "Python 3",
   "language": "python",
   "name": "python3"
  },
  "language_info": {
   "codemirror_mode": {
    "name": "ipython",
    "version": 3
   },
   "file_extension": ".py",
   "mimetype": "text/x-python",
   "name": "python",
   "nbconvert_exporter": "python",
   "pygments_lexer": "ipython3",
   "version": "3.9.13"
  }
 },
 "nbformat": 4,
 "nbformat_minor": 5
}
