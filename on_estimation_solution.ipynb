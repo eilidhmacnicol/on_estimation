{
 "cells": [
  {
   "cell_type": "markdown",
   "id": "df520228",
   "metadata": {},
   "source": [
    "# Least-squares regression exercise"
   ]
  },
  {
   "cell_type": "markdown",
   "id": "896ba590",
   "metadata": {},
   "source": [
    "## Introduction and definitions"
   ]
  },
  {
   "cell_type": "code",
   "execution_count": 1,
   "id": "3930c3d3",
   "metadata": {
    "execution": {
     "iopub.execute_input": "2022-09-10T11:30:14.424478Z",
     "iopub.status.busy": "2022-09-10T11:30:14.423432Z",
     "iopub.status.idle": "2022-09-10T11:30:15.217700Z",
     "shell.execute_reply": "2022-09-10T11:30:15.218492Z"
    }
   },
   "outputs": [],
   "source": [
    "#: Import numerical and plotting libraries\n",
    "import numpy as np\n",
    "# Print to four digits of precision\n",
    "np.set_printoptions(precision=4, suppress=True)\n",
    "import numpy.linalg as npl\n",
    "import matplotlib.pyplot as plt"
   ]
  },
  {
   "cell_type": "markdown",
   "id": "6b153055",
   "metadata": {},
   "source": [
    "These exercises are to practice thinking about how the regression estimation\n",
    "works, and the relationship of correlation and regression.\n",
    "\n",
    "To give us some concrete data to play with, here are some more samples of the\n",
    "“psychopathy” and “clamminess” scores that we saw in the [introduction to the\n",
    "general linear model](https://matthew-brett.github.io/teaching/glm_intro.html):"
   ]
  },
  {
   "cell_type": "code",
   "execution_count": 2,
   "id": "eabfa6a4",
   "metadata": {
    "execution": {
     "iopub.execute_input": "2022-09-10T11:30:15.225021Z",
     "iopub.status.busy": "2022-09-10T11:30:15.224071Z",
     "iopub.status.idle": "2022-09-10T11:30:15.226770Z",
     "shell.execute_reply": "2022-09-10T11:30:15.227515Z"
    }
   },
   "outputs": [],
   "source": [
    "#: The data, that we are trying to model.\n",
    "psychopathy = np.array([ 11.914,   4.289,  10.825,  14.987,\n",
    "                         7.572,   5.447,   17.332,  12.105,\n",
    "                         13.297,  10.635,  21.777,  20.715])"
   ]
  },
  {
   "cell_type": "code",
   "execution_count": 3,
   "id": "df792e15",
   "metadata": {
    "execution": {
     "iopub.execute_input": "2022-09-10T11:30:15.233413Z",
     "iopub.status.busy": "2022-09-10T11:30:15.232513Z",
     "iopub.status.idle": "2022-09-10T11:30:15.235216Z",
     "shell.execute_reply": "2022-09-10T11:30:15.235866Z"
    }
   },
   "outputs": [],
   "source": [
    "#: The regressor that we will use to model the data.\n",
    "clammy = np.array([ 0.422,  0.406,  0.061,  0.962,  4.715,\n",
    "                    1.398,  1.952,  5.095, 8.092,  5.685,\n",
    "                    5.167,  7.257])"
   ]
  },
  {
   "cell_type": "markdown",
   "id": "5808d040",
   "metadata": {},
   "source": [
    "$\\newcommand{\\yvec}{\\vec{y}} \\newcommand{\\xvec}{\\vec{x}} \\newcommand{\\evec}{\\vec{\\varepsilon}}$\n",
    "\n",
    "Our simple linear model can be expressed by:\n",
    "\n",
    "$$\n",
    "y_i = c + bx_i + e_i`\n",
    "$$\n",
    "\n",
    "or, in vector notation:\n",
    "\n",
    "$$\n",
    "\\yvec = c + b \\xvec + \\evec\n",
    "$$\n",
    "\n",
    "where $\\yvec$ is the vector of values $[y_1, y_2, ... y_n]$ we want to explain\n",
    "(psychopathy), $\\xvec$ is the vector of values $[x_1, x_2, ... x_n]$\n",
    "containing our explanatory variable (clammy), and $\\evec$ is the vector of\n",
    "remaining data unexplained by $c + b \\xvec$.\n",
    "\n",
    "$\\newcommand{Xmat}{\\boldsymbol X} \\newcommand{\\bvec}{\\vec{\\beta}}$\n",
    "\n",
    "The same model can also be expressed using a design *matrix* $\\Xmat$:\n",
    "\n",
    "$$\n",
    "\\yvec = \\Xmat \\bvec + \\evec\n",
    "$$\n",
    "\n",
    "where $\\Xmat$ has two columns, the first being a length $n$ vector of ones,\n",
    "and the second being $\\xvec$. $\\bvec$ is column vector containing two values,\n",
    "$[c, b]$ that are the intercept and slope of the fitted line.\n",
    "\n",
    "Now define the *mean* of $\\vec{x}$ as:\n",
    "\n",
    "$$\n",
    "\\bar{x} = \\frac{1}{n} \\sum_{i=1}^n x_i\n",
    "$$\n",
    "\n",
    "Define two new vectors, $\\vec{x^c}, \\vec{y^c}$ that contain the values in\n",
    "$\\vec{x}, \\vec{y}$ with their respective means subtracted:\n",
    "\n",
    "$$\n",
    "\\vec{x^c} = [x_1 - \\bar{x}, x_2 - \\bar{x}, ... , x_n - \\bar{x}]\n",
    "\n",
    "\\vec{y^c} = [y_1 - \\bar{y}, y_2 - \\bar{y}, ... , y_n - \\bar{y}]\n",
    "$$\n",
    "\n",
    "We found in [introduction to the general linear model](https://matthew-brett.github.io/teaching/glm_intro.html) that, for the case of\n",
    "a full-rank matrix $\\Xmat$, the least squares estimate for $\\bvec$ is given\n",
    "by:\n",
    "\n",
    "$$\n",
    "\\newcommand{\\bhat}{\\hat{\\bvec}} \\newcommand{\\yhat}{\\hat{\\yvec}}\n",
    "\\bhat = (\\Xmat^T \\Xmat)^{-1} \\Xmat^T \\yvec\n",
    "$$"
   ]
  },
  {
   "cell_type": "markdown",
   "id": "47067c13",
   "metadata": {},
   "source": [
    "# Correlation coefficient and regression\n",
    "\n",
    "Create the $\\Xmat$ matrix from a vector of ones and the vector of `clammy`\n",
    "scores:"
   ]
  },
  {
   "cell_type": "code",
   "execution_count": 4,
   "id": "45d74306",
   "metadata": {
    "execution": {
     "iopub.execute_input": "2022-09-10T11:30:15.246010Z",
     "iopub.status.busy": "2022-09-10T11:30:15.244909Z",
     "iopub.status.idle": "2022-09-10T11:30:15.249590Z",
     "shell.execute_reply": "2022-09-10T11:30:15.250241Z"
    }
   },
   "outputs": [],
   "source": [
    "#- Create X design matrix fron column of ones and clammy vector\n",
    "n = len(clammy)\n",
    "X = np.ones((n, 2))\n",
    "X[:, 1] = clammy\n",
    "# Show the result.\n",
    "X"
   ]
  },
  {
   "cell_type": "markdown",
   "id": "2e3e95ce",
   "metadata": {},
   "source": [
    "Are the columns of `X` orthogonal to each other?"
   ]
  },
  {
   "cell_type": "code",
   "execution_count": 5,
   "id": "4ae23d53",
   "metadata": {
    "execution": {
     "iopub.execute_input": "2022-09-10T11:30:15.257395Z",
     "iopub.status.busy": "2022-09-10T11:30:15.256439Z",
     "iopub.status.idle": "2022-09-10T11:30:15.260761Z",
     "shell.execute_reply": "2022-09-10T11:30:15.261441Z"
    }
   },
   "outputs": [],
   "source": [
    "#- Some code to check whether the columns of X are orthogonal.\n",
    "#- Feel free to miss this cell if you don't know how to check if columns are\n",
    "#- orthogonal.\n",
    "X.T.dot(X)"
   ]
  },
  {
   "cell_type": "markdown",
   "id": "f3516368",
   "metadata": {},
   "source": [
    "Is $\\Xmat^T \\Xmat$ invertible?"
   ]
  },
  {
   "cell_type": "code",
   "execution_count": 6,
   "id": "7caa165d",
   "metadata": {
    "execution": {
     "iopub.execute_input": "2022-09-10T11:30:15.268525Z",
     "iopub.status.busy": "2022-09-10T11:30:15.267122Z",
     "iopub.status.idle": "2022-09-10T11:30:15.269841Z",
     "shell.execute_reply": "2022-09-10T11:30:15.270562Z"
    }
   },
   "outputs": [],
   "source": [
    "#- Check whether X.T.dot(X) is invertible\n",
    "iXtX = npl.inv(X.T.dot(X))  # No error in inversion"
   ]
  },
  {
   "cell_type": "markdown",
   "id": "c3fcbbe6",
   "metadata": {},
   "source": [
    "Calculate $(\\Xmat^T \\Xmat)^{-1} \\Xmat^T$.  What shape is it?"
   ]
  },
  {
   "cell_type": "code",
   "execution_count": 7,
   "id": "125bdf7b",
   "metadata": {
    "execution": {
     "iopub.execute_input": "2022-09-10T11:30:15.278369Z",
     "iopub.status.busy": "2022-09-10T11:30:15.276923Z",
     "iopub.status.idle": "2022-09-10T11:30:15.281363Z",
     "shell.execute_reply": "2022-09-10T11:30:15.282003Z"
    }
   },
   "outputs": [],
   "source": [
    "#- Calculate (X.T X)^-1 X.T (the pseudoinverse)\n",
    "piX = iXtX.dot(X.T)\n",
    "piX.shape"
   ]
  },
  {
   "cell_type": "markdown",
   "id": "e43918e3",
   "metadata": {},
   "source": [
    "Calculate the least squares fit value for $\\bvec$:"
   ]
  },
  {
   "cell_type": "code",
   "execution_count": 8,
   "id": "358fc56a",
   "metadata": {
    "execution": {
     "iopub.execute_input": "2022-09-10T11:30:15.288979Z",
     "iopub.status.busy": "2022-09-10T11:30:15.287843Z",
     "iopub.status.idle": "2022-09-10T11:30:15.292830Z",
     "shell.execute_reply": "2022-09-10T11:30:15.292167Z"
    }
   },
   "outputs": [],
   "source": [
    "#- Calculate least squares fit for beta vector\n",
    "B = piX.dot(psychopathy)\n",
    "B"
   ]
  },
  {
   "cell_type": "markdown",
   "id": "f58b87d1",
   "metadata": {},
   "source": [
    "Calculate the fitted values $c + b \\xvec$, and the residuals $\\evec$:"
   ]
  },
  {
   "cell_type": "code",
   "execution_count": 9,
   "id": "7389d5c2",
   "metadata": {
    "execution": {
     "iopub.execute_input": "2022-09-10T11:30:15.299394Z",
     "iopub.status.busy": "2022-09-10T11:30:15.298193Z",
     "iopub.status.idle": "2022-09-10T11:30:15.301642Z",
     "shell.execute_reply": "2022-09-10T11:30:15.300996Z"
    }
   },
   "outputs": [],
   "source": [
    "#- Calculate the fitted values\n",
    "fitted = X.dot(B)\n",
    "residuals = psychopathy - fitted"
   ]
  },
  {
   "cell_type": "markdown",
   "id": "51541388",
   "metadata": {},
   "source": [
    "Confirm that the mean of the residuals is close to zero:"
   ]
  },
  {
   "cell_type": "code",
   "execution_count": 10,
   "id": "b82cf643",
   "metadata": {
    "execution": {
     "iopub.execute_input": "2022-09-10T11:30:15.308830Z",
     "iopub.status.busy": "2022-09-10T11:30:15.307712Z",
     "iopub.status.idle": "2022-09-10T11:30:15.311887Z",
     "shell.execute_reply": "2022-09-10T11:30:15.312565Z"
    }
   },
   "outputs": [],
   "source": [
    "#- mean of residuals near zero\n",
    "np.allclose(residuals.mean(), 0)"
   ]
  },
  {
   "cell_type": "markdown",
   "id": "c288dd14",
   "metadata": {},
   "source": [
    "Confirm that residuals are orthogonal to both columns of the design matrix:"
   ]
  },
  {
   "cell_type": "code",
   "execution_count": 11,
   "id": "bd25ed14",
   "metadata": {
    "execution": {
     "iopub.execute_input": "2022-09-10T11:30:15.320119Z",
     "iopub.status.busy": "2022-09-10T11:30:15.318920Z",
     "iopub.status.idle": "2022-09-10T11:30:15.323119Z",
     "shell.execute_reply": "2022-09-10T11:30:15.323810Z"
    }
   },
   "outputs": [],
   "source": [
    "#- Residuals orthogonal to design\n",
    "X.T.dot(residuals) \n",
    "np.allclose(X.T.dot(residuals), 0)"
   ]
  },
  {
   "cell_type": "markdown",
   "id": "ed731df3",
   "metadata": {},
   "source": [
    "We will not modify the design to see what happens to the parameters and the\n",
    "fitted values.\n",
    "\n",
    "To keep our calculations for the original and new designs, start by copying\n",
    "`X` to make a new array `X_o`.  Hint: tab complete on the array object in\n",
    "IPython."
   ]
  },
  {
   "cell_type": "code",
   "execution_count": 12,
   "id": "f9c52863",
   "metadata": {
    "execution": {
     "iopub.execute_input": "2022-09-10T11:30:15.330404Z",
     "iopub.status.busy": "2022-09-10T11:30:15.328906Z",
     "iopub.status.idle": "2022-09-10T11:30:15.331665Z",
     "shell.execute_reply": "2022-09-10T11:30:15.332293Z"
    }
   },
   "outputs": [],
   "source": [
    "#- Copy X to new array X_o\n",
    "X_o = X.copy()"
   ]
  },
  {
   "cell_type": "markdown",
   "id": "b0884e24",
   "metadata": {},
   "source": [
    "We found that above that the columns of `X` are not orthogonal.  How can we\n",
    "modify the second column of `X` to make it orthogonal to the first?  Hint:\n",
    "write out the dot product of the first column with the second as a sum, and\n",
    "simplify. Use that result to work out what to subtract from the second column\n",
    "so the dot product is 0."
   ]
  },
  {
   "cell_type": "code",
   "execution_count": 13,
   "id": "9206690c",
   "metadata": {
    "execution": {
     "iopub.execute_input": "2022-09-10T11:30:15.341173Z",
     "iopub.status.busy": "2022-09-10T11:30:15.339746Z",
     "iopub.status.idle": "2022-09-10T11:30:15.344184Z",
     "shell.execute_reply": "2022-09-10T11:30:15.344862Z"
    }
   },
   "outputs": [],
   "source": [
    "#- Make second column orthogonal to first. Confirm orthogonality\n",
    "X_o[:, 1] = X_o[:, 1] - X_o[:, 1].mean()\n",
    "X_o.T.dot(X_o)"
   ]
  },
  {
   "cell_type": "markdown",
   "id": "890f2b95",
   "metadata": {},
   "source": [
    "Look at the diagonal values of the matrix `X_o.T.dot(X_o)`.  What is the\n",
    "relationship of these values to the *vector lengths* of the vectors in the\n",
    "first and second columns of `X_o`? See [vectors and dot products](http://matthew-brett.github.io/teaching/on_vectors.html) for a\n",
    "refresher on the concept of vector length.\n",
    "\n",
    "Use `numpy.linalg.inv` to find $(\\Xmat^T \\Xmat)^{-1}$ – the inverse of\n",
    "`X_o.T.dot(X_o)`. Now what is the relationship of the values in the diagonal\n",
    "of the inverse matrix to the lengths of the vectors in the first and second\n",
    "columns of `X_o`?  Hint: $A^{-1} \\cdot A = I$; if $A$ has all zeros off the\n",
    "diagonal, what must $A^{-1}$ be for this to be true?\n",
    "\n",
    "Make a new data vector `y_c` by subtracting the mean from the psychopathy\n",
    "vector:"
   ]
  },
  {
   "cell_type": "code",
   "execution_count": 14,
   "id": "c3ade0d9",
   "metadata": {
    "execution": {
     "iopub.execute_input": "2022-09-10T11:30:15.351029Z",
     "iopub.status.busy": "2022-09-10T11:30:15.349829Z",
     "iopub.status.idle": "2022-09-10T11:30:15.352484Z",
     "shell.execute_reply": "2022-09-10T11:30:15.353472Z"
    }
   },
   "outputs": [],
   "source": [
    "#- Make mean-centered version of psychopathy vector\n",
    "y_c = psychopathy - psychopathy.mean()"
   ]
  },
  {
   "cell_type": "markdown",
   "id": "71966e22",
   "metadata": {},
   "source": [
    "Calculate a new `B_o` parameter vector for the least-squares fit of `X_o`\n",
    "to `y_c`:"
   ]
  },
  {
   "cell_type": "code",
   "execution_count": 15,
   "id": "4477470c",
   "metadata": {
    "execution": {
     "iopub.execute_input": "2022-09-10T11:30:15.361229Z",
     "iopub.status.busy": "2022-09-10T11:30:15.360115Z",
     "iopub.status.idle": "2022-09-10T11:30:15.365446Z",
     "shell.execute_reply": "2022-09-10T11:30:15.366408Z"
    }
   },
   "outputs": [],
   "source": [
    "#- Calculate fit of X_o to y_o\n",
    "iXtX = npl.inv(X_o.T.dot(X_o))\n",
    "B_o = iXtX.dot(X_o.T).dot(y_c)\n",
    "B_o"
   ]
  },
  {
   "cell_type": "markdown",
   "id": "3a19af28",
   "metadata": {},
   "source": [
    "The first parameter has changed compared to your previous estimate.  Can you\n",
    "explain why it has this new value by considering the values of $(\\Xmat^T\n",
    "\\Xmat)^{-1} \\Xmat^T \\yvec$?\n",
    "\n",
    "Calculate the correlation coefficient between `y_c` and the second column of\n",
    "`X_o`:"
   ]
  },
  {
   "cell_type": "code",
   "execution_count": 16,
   "id": "52d99121",
   "metadata": {
    "execution": {
     "iopub.execute_input": "2022-09-10T11:30:15.379038Z",
     "iopub.status.busy": "2022-09-10T11:30:15.377314Z",
     "iopub.status.idle": "2022-09-10T11:30:15.383641Z",
     "shell.execute_reply": "2022-09-10T11:30:15.384803Z"
    }
   },
   "outputs": [],
   "source": [
    "#- Correlation coefficient of y_c and the second column of X_o\n",
    "r_xy = np.corrcoef(y_c, X_o[:, 1])[0, 1]\n",
    "r_xy"
   ]
  },
  {
   "cell_type": "markdown",
   "id": "eb71451d",
   "metadata": {},
   "source": [
    "What is the relationship between this correlation coefficient and `B_o[1]`?\n",
    "Hint: what is the relationship of the correlation coefficient to vector dot\n",
    "products?  See: [correlation and projection](http://matthew-brett.github.io/teaching/correlation_projection.html) for a reminder.\n",
    "\n",
    "Now try calculating $\\bvec$ fitting the `X_o` design to the original\n",
    "psychopathy data (not the mean-centered version)."
   ]
  },
  {
   "cell_type": "code",
   "execution_count": 17,
   "id": "eca06e72",
   "metadata": {
    "execution": {
     "iopub.execute_input": "2022-09-10T11:30:15.395460Z",
     "iopub.status.busy": "2022-09-10T11:30:15.393687Z",
     "iopub.status.idle": "2022-09-10T11:30:15.401916Z",
     "shell.execute_reply": "2022-09-10T11:30:15.400652Z"
    }
   },
   "outputs": [],
   "source": [
    "#- Fit X_o to psychopathy data\n",
    "B_o = iXtX.dot(X_o.T).dot(psychopathy)\n",
    "B_o"
   ]
  },
  {
   "cell_type": "markdown",
   "id": "ff8485fc",
   "metadata": {},
   "source": [
    "Compare the first value in the new `B_o` parameter vector with the mean of\n",
    "the `psychpathy` vector."
   ]
  },
  {
   "cell_type": "code",
   "execution_count": 18,
   "id": "efa0ba08",
   "metadata": {
    "execution": {
     "iopub.execute_input": "2022-09-10T11:30:15.415916Z",
     "iopub.status.busy": "2022-09-10T11:30:15.414248Z",
     "iopub.status.idle": "2022-09-10T11:30:15.427554Z",
     "shell.execute_reply": "2022-09-10T11:30:15.429428Z"
    }
   },
   "outputs": [],
   "source": [
    "psychopathy.mean()"
   ]
  },
  {
   "cell_type": "markdown",
   "id": "e869e87c",
   "metadata": {},
   "source": [
    "Can you explain the relationship?\n",
    "\n",
    "For extra points, can you explain why the second value in `B_o` did not\n",
    "change when we estimated for `psychopathy` rather than the mean-centered\n",
    "version `y_c`?  Hint: remember $(\\vec{a} + \\vec{b}) \\cdot \\vec{c} = \\vec{a}\n",
    "\\cdot \\vec{c} + \\vec{b} \\cdot \\vec{c}$.\n",
    "\n",
    "Calculate the fitted values for the `X_o` model, and compare them to the\n",
    "fitted values for the original model:"
   ]
  },
  {
   "cell_type": "code",
   "execution_count": 19,
   "id": "859a8051",
   "metadata": {
    "execution": {
     "iopub.execute_input": "2022-09-10T11:30:15.441490Z",
     "iopub.status.busy": "2022-09-10T11:30:15.439852Z",
     "iopub.status.idle": "2022-09-10T11:30:15.446580Z",
     "shell.execute_reply": "2022-09-10T11:30:15.447288Z"
    }
   },
   "outputs": [],
   "source": [
    "fitted_X_o = X_o.dot(B_o)\n",
    "np.allclose(fitted_X_o, fitted)"
   ]
  },
  {
   "cell_type": "markdown",
   "id": "0c02ee48",
   "metadata": {},
   "source": [
    "For even more extra points, explain the relationship between the fitted values\n",
    "for the original model and those for the new model, where the clammy regressor\n",
    "is mean centered."
   ]
  }
 ],
 "metadata": {
  "jupytext": {
   "notebook_metadata_filter": "all,-language_info",
   "split_at_heading": true,
   "text_representation": {
    "extension": ".Rmd",
    "format_name": "rmarkdown",
    "format_version": "1.2",
    "jupytext_version": "1.13.7"
   }
  },
  "kernelspec": {
   "display_name": "Python 3",
   "language": "python",
   "name": "python3"
  },
  "language_info": {
   "codemirror_mode": {
    "name": "ipython",
    "version": 3
   },
   "file_extension": ".py",
   "mimetype": "text/x-python",
   "name": "python",
   "nbconvert_exporter": "python",
   "pygments_lexer": "ipython3",
   "version": "3.9.13"
  }
 },
 "nbformat": 4,
 "nbformat_minor": 5
}
