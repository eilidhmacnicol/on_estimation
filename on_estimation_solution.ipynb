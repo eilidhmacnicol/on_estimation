{
 "cells": [
  {
   "cell_type": "markdown",
   "id": "f1831a12",
   "metadata": {},
   "source": [
    "# Least-squares regression exercise\n",
    "\n",
    "\n"
   ]
  },
  {
   "cell_type": "markdown",
   "id": "ffdf3314",
   "metadata": {},
   "source": [
    "## Introduction and definitions"
   ]
  },
  {
   "cell_type": "code",
   "execution_count": 1,
   "id": "47afa9eb",
   "metadata": {
    "execution": {
     "iopub.execute_input": "2022-09-10T18:15:16.324892Z",
     "iopub.status.busy": "2022-09-10T18:15:16.323846Z",
     "iopub.status.idle": "2022-09-10T18:15:16.964063Z",
     "shell.execute_reply": "2022-09-10T18:15:16.962740Z"
    }
   },
   "outputs": [],
   "source": [
    "#: Import numerical and plotting libraries\n",
    "import numpy as np\n",
    "# Print to four digits of precision\n",
    "np.set_printoptions(precision=4, suppress=True)\n",
    "import numpy.linalg as npl\n",
    "import matplotlib.pyplot as plt"
   ]
  },
  {
   "cell_type": "markdown",
   "id": "8343a57c",
   "metadata": {},
   "source": [
    "These exercises are to practice thinking about how the regression estimation\n",
    "works, and the relationship of correlation and regression.\n",
    "\n",
    "To give us some concrete data to play with, here are another couple of samples\n",
    "of the “psychopathy” and “clamminess” scores, of the same type that we saw in\n",
    "the [introduction to the general linear\n",
    "model](https://textbook.nipraxis.org/glm_intro.html):"
   ]
  },
  {
   "cell_type": "code",
   "execution_count": 2,
   "id": "90062adf",
   "metadata": {
    "execution": {
     "iopub.execute_input": "2022-09-10T18:15:16.973052Z",
     "iopub.status.busy": "2022-09-10T18:15:16.971520Z",
     "iopub.status.idle": "2022-09-10T18:15:16.975116Z",
     "shell.execute_reply": "2022-09-10T18:15:16.976045Z"
    }
   },
   "outputs": [],
   "source": [
    "#: The data, that we are trying to model.\n",
    "psychopathy = np.array([ 11.914,   4.289,  10.825,  14.987,\n",
    "                         7.572,   5.447,   17.332,  12.105,\n",
    "                         13.297,  10.635,  21.777,  20.715])"
   ]
  },
  {
   "cell_type": "code",
   "execution_count": 3,
   "id": "9fb1dd00",
   "metadata": {
    "execution": {
     "iopub.execute_input": "2022-09-10T18:15:16.982332Z",
     "iopub.status.busy": "2022-09-10T18:15:16.981348Z",
     "iopub.status.idle": "2022-09-10T18:15:16.983960Z",
     "shell.execute_reply": "2022-09-10T18:15:16.984612Z"
    }
   },
   "outputs": [],
   "source": [
    "#: The regressor that we will use to model the data.\n",
    "clammy = np.array([ 0.422,  0.406,  0.061,  0.962,  4.715,\n",
    "                    1.398,  1.952,  5.095, 8.092,  5.685,\n",
    "                    5.167,  7.257])"
   ]
  },
  {
   "cell_type": "markdown",
   "id": "c3a170bc",
   "metadata": {},
   "source": [
    "$\\newcommand{\\yvec}{\\vec{y}} \\newcommand{\\xvec}{\\vec{x}} \\newcommand{\\evec}{\\vec{\\varepsilon}}$\n",
    "\n",
    "Our simple linear model can be expressed by:\n",
    "\n",
    "$$\n",
    "y_i = c + bx_i + e_i`\n",
    "$$\n",
    "\n",
    "In vector notation:\n",
    "\n",
    "$$\n",
    "\\yvec = c + b \\xvec + \\evec\n",
    "$$\n",
    "\n",
    "$\\yvec$ is the vector of values $[y_1, y_2, ... y_n]$ we want to explain\n",
    "(psychopathy), $\\xvec$ is the vector of values $[x_1, x_2, ... x_n]$ containing\n",
    "our explanatory variable (clammy), and $\\evec$ is the vector of remaining data\n",
    "unexplained by $c + b \\xvec$.\n",
    "\n",
    "$\\newcommand{Xmat}{\\boldsymbol X} \\newcommand{\\bvec}{\\vec{\\beta}}$\n",
    "\n",
    "The same model can also be expressed using a design *matrix* $\\Xmat$:\n",
    "\n",
    "$$\n",
    "\\yvec = \\Xmat \\bvec + \\evec\n",
    "$$\n",
    "\n",
    "where $\\Xmat$ has two columns, the first being a vector of $n$ ones, and the\n",
    "second being $\\xvec$. $\\bvec$ is a column vector containing two values, $[c,\n",
    "b]$ that are, respectively, the intercept and slope of the fitted line.\n",
    "\n",
    "Now define the *mean* of $\\vec{x}$ as:\n",
    "\n",
    "$$\n",
    "\\bar{x} = \\frac{1}{n} \\sum_{i=1}^n x_i\n",
    "$$\n",
    "\n",
    "Define two new vectors, $\\vec{x^c}, \\vec{y^c}$ that contain the values in\n",
    "$\\vec{x}, \\vec{y}$ with their respective means subtracted:\n",
    "\n",
    "$$\n",
    "\\vec{x^c} = [x_1 - \\bar{x}, x_2 - \\bar{x}, ... , x_n - \\bar{x}]\n",
    "\n",
    "\\vec{y^c} = [y_1 - \\bar{y}, y_2 - \\bar{y}, ... , y_n - \\bar{y}]\n",
    "$$\n",
    "\n",
    "We found in [introduction to the general linear\n",
    "model](https://textbook.nipraxis.org/glm_intro.html) that, for the\n",
    "case of a [full-rank](https://textbook.nipraxis.org) matrix $\\Xmat$, the least\n",
    "squares estimate for $\\bvec$ is given by:\n",
    "\n",
    "$$\n",
    "\\newcommand{\\bhat}{\\hat{\\bvec}} \\newcommand{\\yhat}{\\hat{\\yvec}}\n",
    "\\bhat = (\\Xmat^T \\Xmat)^{-1} \\Xmat^T \\yvec\n",
    "$$"
   ]
  },
  {
   "cell_type": "markdown",
   "id": "dc903fbb",
   "metadata": {},
   "source": [
    "## On vector lengths\n",
    "\n",
    "In what follows, we will refer to the idea of the *vector length* of a vector.\n",
    "This is different from the number of values in a vector, often written as $n$:"
   ]
  },
  {
   "cell_type": "code",
   "execution_count": 4,
   "id": "a136f80e",
   "metadata": {
    "execution": {
     "iopub.execute_input": "2022-09-10T18:15:16.994012Z",
     "iopub.status.busy": "2022-09-10T18:15:16.992955Z",
     "iopub.status.idle": "2022-09-10T18:15:16.998037Z",
     "shell.execute_reply": "2022-09-10T18:15:16.998704Z"
    }
   },
   "outputs": [],
   "source": [
    "n = len(clammy)\n",
    "n"
   ]
  },
  {
   "cell_type": "markdown",
   "id": "daad9240",
   "metadata": {},
   "source": [
    "In contrast *vector length* is a mathematical property of the vector *values*.\n",
    "See [vectors and dot\n",
    "products](http://matthew-brett.github.io/teaching/on_vectors.html) for the\n",
    "mathematical background.  In summary, vector length is a generalization of\n",
    "Pythagoras' theorem to more than two dimensions, and is defined as the square\n",
    "root of the sum of the squared vector values.  For example, the vector length\n",
    "of `clammy` is:"
   ]
  },
  {
   "cell_type": "code",
   "execution_count": 5,
   "id": "6e972cf5",
   "metadata": {
    "execution": {
     "iopub.execute_input": "2022-09-10T18:15:17.006129Z",
     "iopub.status.busy": "2022-09-10T18:15:17.004716Z",
     "iopub.status.idle": "2022-09-10T18:15:17.009595Z",
     "shell.execute_reply": "2022-09-10T18:15:17.010377Z"
    }
   },
   "outputs": [],
   "source": [
    "np.sqrt(np.sum(clammy ** 2))"
   ]
  },
  {
   "cell_type": "markdown",
   "id": "ef60c8d0",
   "metadata": {},
   "source": [
    "Now consider a vector of values for which the mean value is 0.   We can create\n",
    "such a vector by subtracting the mean from the vector values, like this:"
   ]
  },
  {
   "cell_type": "code",
   "execution_count": 6,
   "id": "46560698",
   "metadata": {
    "execution": {
     "iopub.execute_input": "2022-09-10T18:15:17.017520Z",
     "iopub.status.busy": "2022-09-10T18:15:17.016457Z",
     "iopub.status.idle": "2022-09-10T18:15:17.020205Z",
     "shell.execute_reply": "2022-09-10T18:15:17.020868Z"
    }
   },
   "outputs": [],
   "source": [
    "x_1 = clammy - np.mean(clammy)\n",
    "# The mean is (near as the computer can calculate) 0\n",
    "np.mean(x_1)"
   ]
  },
  {
   "cell_type": "markdown",
   "id": "fb8fb9b4",
   "metadata": {},
   "source": [
    "The length of this vector is:"
   ]
  },
  {
   "cell_type": "code",
   "execution_count": 7,
   "id": "0a243ce6",
   "metadata": {
    "execution": {
     "iopub.execute_input": "2022-09-10T18:15:17.029023Z",
     "iopub.status.busy": "2022-09-10T18:15:17.027928Z",
     "iopub.status.idle": "2022-09-10T18:15:17.031828Z",
     "shell.execute_reply": "2022-09-10T18:15:17.032498Z"
    }
   },
   "outputs": [],
   "source": [
    "x_1_len = np.sqrt(np.sum(x_1 ** 2))\n",
    "x_1_len"
   ]
  },
  {
   "cell_type": "markdown",
   "id": "88d5c0c8",
   "metadata": {},
   "source": [
    "Here is the *standard deviation* of this vector:"
   ]
  },
  {
   "cell_type": "code",
   "execution_count": 8,
   "id": "4bcdebc2",
   "metadata": {
    "execution": {
     "iopub.execute_input": "2022-09-10T18:15:17.039672Z",
     "iopub.status.busy": "2022-09-10T18:15:17.038292Z",
     "iopub.status.idle": "2022-09-10T18:15:17.043092Z",
     "shell.execute_reply": "2022-09-10T18:15:17.043780Z"
    }
   },
   "outputs": [],
   "source": [
    "x_1_std = np.std(x_1)\n",
    "x_1_std"
   ]
  },
  {
   "cell_type": "markdown",
   "id": "7ef2114d",
   "metadata": {},
   "source": [
    "Thinking about the calculation of the standard deviation and the calculation of\n",
    "the length, how would you recalculate the standard deviation *from the length*?\n",
    "\n",
    "You may well need a sheet of paper to work out how to do this, with some\n",
    "algebra."
   ]
  },
  {
   "cell_type": "code",
   "execution_count": 9,
   "id": "7eb9dfc3",
   "metadata": {
    "execution": {
     "iopub.execute_input": "2022-09-10T18:15:17.050631Z",
     "iopub.status.busy": "2022-09-10T18:15:17.049592Z",
     "iopub.status.idle": "2022-09-10T18:15:17.053156Z",
     "shell.execute_reply": "2022-09-10T18:15:17.054039Z"
    },
    "lines_to_next_cell": 2
   },
   "outputs": [],
   "source": [
    "# Recalculate the standard deviation from the vector length.\n",
    "std_recalculated = np.sqrt(x_1_len ** 2 / n)\n",
    "# Show the result\n",
    "std_recalculated"
   ]
  },
  {
   "cell_type": "markdown",
   "id": "f2798692",
   "metadata": {},
   "source": [
    "Conversely, calculate the vector length from the standard deviation:"
   ]
  },
  {
   "cell_type": "code",
   "execution_count": 10,
   "id": "fd2dbcb0",
   "metadata": {
    "execution": {
     "iopub.execute_input": "2022-09-10T18:15:17.061741Z",
     "iopub.status.busy": "2022-09-10T18:15:17.060599Z",
     "iopub.status.idle": "2022-09-10T18:15:17.064480Z",
     "shell.execute_reply": "2022-09-10T18:15:17.065144Z"
    }
   },
   "outputs": [],
   "source": [
    "# Recalculate the vector length from the standard deviation\n",
    "vlen_recalculated = np.sqrt(x_1_std ** 2 * n)\n",
    "# Show the result\n",
    "vlen_recalculated"
   ]
  },
  {
   "cell_type": "markdown",
   "id": "9896c4bf",
   "metadata": {},
   "source": [
    "## On dot products\n",
    "\n",
    "The *dot product* is the sum of the values in a vector that results from\n",
    "multiplying the two vectors together, elementwise.\n",
    "\n",
    "For example, to calculate the dot product of `psychopathy` and `clammy`, we\n",
    "first multiply the two vectors together, elementwise:"
   ]
  },
  {
   "cell_type": "code",
   "execution_count": 11,
   "id": "625ec541",
   "metadata": {
    "execution": {
     "iopub.execute_input": "2022-09-10T18:15:17.072560Z",
     "iopub.status.busy": "2022-09-10T18:15:17.071195Z",
     "iopub.status.idle": "2022-09-10T18:15:17.078774Z",
     "shell.execute_reply": "2022-09-10T18:15:17.079483Z"
    }
   },
   "outputs": [],
   "source": [
    "multiplied = clammy * psychopathy\n",
    "multiplied"
   ]
  },
  {
   "cell_type": "markdown",
   "id": "d79c0815",
   "metadata": {},
   "source": [
    "The dot product is the sum of the values in `multiplied`:"
   ]
  },
  {
   "cell_type": "code",
   "execution_count": 12,
   "id": "d5e52e08",
   "metadata": {
    "execution": {
     "iopub.execute_input": "2022-09-10T18:15:17.086158Z",
     "iopub.status.busy": "2022-09-10T18:15:17.085143Z",
     "iopub.status.idle": "2022-09-10T18:15:17.089015Z",
     "shell.execute_reply": "2022-09-10T18:15:17.089711Z"
    }
   },
   "outputs": [],
   "source": [
    "np.sum(multiplied)"
   ]
  },
  {
   "cell_type": "markdown",
   "id": "fdc097d8",
   "metadata": {},
   "source": [
    "And in general:"
   ]
  },
  {
   "cell_type": "code",
   "execution_count": 13,
   "id": "0de0e248",
   "metadata": {
    "execution": {
     "iopub.execute_input": "2022-09-10T18:15:17.097312Z",
     "iopub.status.busy": "2022-09-10T18:15:17.096189Z",
     "iopub.status.idle": "2022-09-10T18:15:17.098797Z",
     "shell.execute_reply": "2022-09-10T18:15:17.099473Z"
    }
   },
   "outputs": [],
   "source": [
    "def dot_product(x, y):\n",
    "    return np.sum(x * y)"
   ]
  },
  {
   "cell_type": "code",
   "execution_count": 14,
   "id": "e3513a58",
   "metadata": {
    "execution": {
     "iopub.execute_input": "2022-09-10T18:15:17.106123Z",
     "iopub.status.busy": "2022-09-10T18:15:17.104732Z",
     "iopub.status.idle": "2022-09-10T18:15:17.109678Z",
     "shell.execute_reply": "2022-09-10T18:15:17.110391Z"
    }
   },
   "outputs": [],
   "source": [
    "dot_product(clammy, psychopathy)"
   ]
  },
  {
   "cell_type": "markdown",
   "id": "b78c8d80",
   "metadata": {},
   "source": [
    "Numpy also has a short-cut for the dot-product operation, because it is so\n",
    "common:"
   ]
  },
  {
   "cell_type": "code",
   "execution_count": 15,
   "id": "75ebd6d9",
   "metadata": {
    "execution": {
     "iopub.execute_input": "2022-09-10T18:15:17.117915Z",
     "iopub.status.busy": "2022-09-10T18:15:17.116906Z",
     "iopub.status.idle": "2022-09-10T18:15:17.120619Z",
     "shell.execute_reply": "2022-09-10T18:15:17.121281Z"
    }
   },
   "outputs": [],
   "source": [
    "np.dot(clammy, psychopathy)"
   ]
  },
  {
   "cell_type": "markdown",
   "id": "dbca368e",
   "metadata": {},
   "source": [
    "In fact, this is what you get when using the `@` operator in Numpy, called the\n",
    "*matrix multiplication* operator, when applied to two vectors:"
   ]
  },
  {
   "cell_type": "code",
   "execution_count": 16,
   "id": "a6c456b3",
   "metadata": {
    "execution": {
     "iopub.execute_input": "2022-09-10T18:15:17.129648Z",
     "iopub.status.busy": "2022-09-10T18:15:17.128425Z",
     "iopub.status.idle": "2022-09-10T18:15:17.132723Z",
     "shell.execute_reply": "2022-09-10T18:15:17.133396Z"
    }
   },
   "outputs": [],
   "source": [
    "clammy @ psychopathy"
   ]
  },
  {
   "cell_type": "markdown",
   "id": "b02b4166",
   "metadata": {},
   "source": [
    "Have a look at the definitions of *vector length* and the dot product.  How\n",
    "would you calculate the vector length from the dot product of the vector with\n",
    "itself?"
   ]
  },
  {
   "cell_type": "code",
   "execution_count": 17,
   "id": "e1827a32",
   "metadata": {
    "execution": {
     "iopub.execute_input": "2022-09-10T18:15:17.140818Z",
     "iopub.status.busy": "2022-09-10T18:15:17.139240Z",
     "iopub.status.idle": "2022-09-10T18:15:17.143916Z",
     "shell.execute_reply": "2022-09-10T18:15:17.144590Z"
    }
   },
   "outputs": [],
   "source": [
    "#- Recalculate the vector length using the dot product of the vector with itself\n",
    "c_dot_c = clammy @ clammy\n",
    "np.sqrt(c_dot_c)"
   ]
  },
  {
   "cell_type": "markdown",
   "id": "56655227",
   "metadata": {},
   "source": [
    "## Correlation coefficient and regression\n",
    "\n",
    "Create the $\\Xmat$ matrix from a vector of ones and the vector of `clammy`\n",
    "scores:"
   ]
  },
  {
   "cell_type": "code",
   "execution_count": 18,
   "id": "368a401c",
   "metadata": {
    "execution": {
     "iopub.execute_input": "2022-09-10T18:15:17.152783Z",
     "iopub.status.busy": "2022-09-10T18:15:17.151412Z",
     "iopub.status.idle": "2022-09-10T18:15:17.156232Z",
     "shell.execute_reply": "2022-09-10T18:15:17.157360Z"
    }
   },
   "outputs": [],
   "source": [
    "#- Create X design matrix from column of ones and clammy vector\n",
    "X = np.stack([np.ones(n), clammy], axis=1)\n",
    "# Show the result.\n",
    "X"
   ]
  },
  {
   "cell_type": "markdown",
   "id": "3a882302",
   "metadata": {},
   "source": [
    "Are the columns of `X` orthogonal to each other?\n",
    "\n",
    "Two *vectors* are defined as being orthogonal to each other if the *dot\n",
    "product* of the two vectors is zero."
   ]
  },
  {
   "cell_type": "code",
   "execution_count": 19,
   "id": "e282cf1b",
   "metadata": {
    "execution": {
     "iopub.execute_input": "2022-09-10T18:15:17.165619Z",
     "iopub.status.busy": "2022-09-10T18:15:17.164165Z",
     "iopub.status.idle": "2022-09-10T18:15:17.169542Z",
     "shell.execute_reply": "2022-09-10T18:15:17.170509Z"
    }
   },
   "outputs": [],
   "source": [
    "#- Are the two columns of X orthogonal?\n",
    "X[:, 0] @ X[:, 1]"
   ]
  },
  {
   "cell_type": "markdown",
   "id": "e269d176",
   "metadata": {},
   "source": [
    "We will now calculate the pseudoinverse.\n",
    "\n",
    "First we calculate $\\Xmat^T \\Xmat$:"
   ]
  },
  {
   "cell_type": "code",
   "execution_count": 20,
   "id": "845b1976",
   "metadata": {
    "execution": {
     "iopub.execute_input": "2022-09-10T18:15:17.183172Z",
     "iopub.status.busy": "2022-09-10T18:15:17.181421Z",
     "iopub.status.idle": "2022-09-10T18:15:17.186177Z",
     "shell.execute_reply": "2022-09-10T18:15:17.186826Z"
    }
   },
   "outputs": [],
   "source": [
    "XtX = X.T @  X\n",
    "XtX"
   ]
  },
  {
   "cell_type": "markdown",
   "id": "ba534625",
   "metadata": {},
   "source": [
    "*For extra points* : does this matrix help us with the question as to whether\n",
    "the columns are orthogonal?  How?\n",
    "\n",
    "Calculated the matrix inverse of $\\Xmat^T \\Xmat$:"
   ]
  },
  {
   "cell_type": "code",
   "execution_count": 21,
   "id": "492246a5",
   "metadata": {
    "execution": {
     "iopub.execute_input": "2022-09-10T18:15:17.194776Z",
     "iopub.status.busy": "2022-09-10T18:15:17.193650Z",
     "iopub.status.idle": "2022-09-10T18:15:17.200103Z",
     "shell.execute_reply": "2022-09-10T18:15:17.200778Z"
    }
   },
   "outputs": [],
   "source": [
    "#- Matrix inverse of X.T @ X\n",
    "iXtX = npl.inv(XtX)\n",
    "# Show the result\n",
    "iXtX"
   ]
  },
  {
   "cell_type": "markdown",
   "id": "4d7c343b",
   "metadata": {},
   "source": [
    "If you can calculate the inverse without error, that means that $\\Xmat^T \\Xmat$\n",
    "is *invertible*.\n",
    "\n",
    "Calculate $(\\Xmat^T \\Xmat)^{-1} \\Xmat^T$ (the pseudoinverse in the invertible\n",
    "case).  What shape is it?"
   ]
  },
  {
   "cell_type": "code",
   "execution_count": 22,
   "id": "54298cc8",
   "metadata": {
    "execution": {
     "iopub.execute_input": "2022-09-10T18:15:17.209010Z",
     "iopub.status.busy": "2022-09-10T18:15:17.207017Z",
     "iopub.status.idle": "2022-09-10T18:15:17.212130Z",
     "shell.execute_reply": "2022-09-10T18:15:17.212812Z"
    }
   },
   "outputs": [],
   "source": [
    "#- Calculate (X.T X)^-1 X.T (the pseudoinverse)\n",
    "piX = iXtX @ X.T\n",
    "# Show the shape\n",
    "piX.shape"
   ]
  },
  {
   "cell_type": "markdown",
   "id": "4f9efdde",
   "metadata": {},
   "source": [
    "Calculate the least squares fit value for $\\bvec$:"
   ]
  },
  {
   "cell_type": "code",
   "execution_count": 23,
   "id": "775f2536",
   "metadata": {
    "execution": {
     "iopub.execute_input": "2022-09-10T18:15:17.220241Z",
     "iopub.status.busy": "2022-09-10T18:15:17.218901Z",
     "iopub.status.idle": "2022-09-10T18:15:17.223373Z",
     "shell.execute_reply": "2022-09-10T18:15:17.224303Z"
    }
   },
   "outputs": [],
   "source": [
    "#- Calculate least squares fit for beta vector\n",
    "B = piX @ psychopathy\n",
    "B"
   ]
  },
  {
   "cell_type": "markdown",
   "id": "fcf0585b",
   "metadata": {},
   "source": [
    "Calculate the fitted values $c + b \\xvec$, and the residuals $\\evec$:"
   ]
  },
  {
   "cell_type": "code",
   "execution_count": 24,
   "id": "cf7bd0b5",
   "metadata": {
    "execution": {
     "iopub.execute_input": "2022-09-10T18:15:17.231094Z",
     "iopub.status.busy": "2022-09-10T18:15:17.229914Z",
     "iopub.status.idle": "2022-09-10T18:15:17.233723Z",
     "shell.execute_reply": "2022-09-10T18:15:17.233020Z"
    }
   },
   "outputs": [],
   "source": [
    "#- Calculate the fitted values\n",
    "fitted = X @ B\n",
    "residuals = psychopathy - fitted"
   ]
  },
  {
   "cell_type": "markdown",
   "id": "a7516f9b",
   "metadata": {},
   "source": [
    "Confirm that the mean of the residuals is close to zero:"
   ]
  },
  {
   "cell_type": "code",
   "execution_count": 25,
   "id": "74522986",
   "metadata": {
    "execution": {
     "iopub.execute_input": "2022-09-10T18:15:17.241403Z",
     "iopub.status.busy": "2022-09-10T18:15:17.239678Z",
     "iopub.status.idle": "2022-09-10T18:15:17.244707Z",
     "shell.execute_reply": "2022-09-10T18:15:17.245402Z"
    }
   },
   "outputs": [],
   "source": [
    "#- mean of residuals near zero\n",
    "np.allclose(np.mean(residuals), 0)"
   ]
  },
  {
   "cell_type": "markdown",
   "id": "fde0d6c7",
   "metadata": {},
   "source": [
    "Confirm that residuals are orthogonal to both columns of the design matrix:"
   ]
  },
  {
   "cell_type": "code",
   "execution_count": 26,
   "id": "864031d3",
   "metadata": {
    "execution": {
     "iopub.execute_input": "2022-09-10T18:15:17.252866Z",
     "iopub.status.busy": "2022-09-10T18:15:17.251546Z",
     "iopub.status.idle": "2022-09-10T18:15:17.255839Z",
     "shell.execute_reply": "2022-09-10T18:15:17.256754Z"
    }
   },
   "outputs": [],
   "source": [
    "#- Show residuals orthogonal to both columns of design\n",
    "np.allclose(X.T @ residuals, 0)"
   ]
  },
  {
   "cell_type": "markdown",
   "id": "273b9464",
   "metadata": {},
   "source": [
    "We will now modify the design to see what happens to the parameters and the\n",
    "fitted values.\n",
    "\n",
    "We build the new design by leaving the first columns the same (a column of\n",
    "ones).   Then we change the second column (the `clammy` values) so that it is\n",
    "*orthogonal to* the first.  We can do that by subtracting the mean from the\n",
    "`clammy` vector:"
   ]
  },
  {
   "cell_type": "code",
   "execution_count": 27,
   "id": "72ce5293",
   "metadata": {
    "execution": {
     "iopub.execute_input": "2022-09-10T18:15:17.263765Z",
     "iopub.status.busy": "2022-09-10T18:15:17.262557Z",
     "iopub.status.idle": "2022-09-10T18:15:17.265345Z",
     "shell.execute_reply": "2022-09-10T18:15:17.266274Z"
    }
   },
   "outputs": [],
   "source": [
    "x_1 = clammy - np.mean(clammy)"
   ]
  },
  {
   "cell_type": "markdown",
   "id": "ef957bc6",
   "metadata": {},
   "source": [
    "Confirm that `x_1` is orthogonal to the column of ones:"
   ]
  },
  {
   "cell_type": "code",
   "execution_count": 28,
   "id": "28040523",
   "metadata": {
    "execution": {
     "iopub.execute_input": "2022-09-10T18:15:17.273294Z",
     "iopub.status.busy": "2022-09-10T18:15:17.271811Z",
     "iopub.status.idle": "2022-09-10T18:15:17.277064Z",
     "shell.execute_reply": "2022-09-10T18:15:17.277957Z"
    }
   },
   "outputs": [],
   "source": [
    "#- Show x_1 orthogonal to a column of ones\n",
    "x_1 @ np.ones(n)"
   ]
  },
  {
   "cell_type": "markdown",
   "id": "f1566d85",
   "metadata": {},
   "source": [
    "Compile the column of ones and the new regressor into an `n` by 2 design matrix\n",
    "`X_o`:"
   ]
  },
  {
   "cell_type": "code",
   "execution_count": 29,
   "id": "9f6bf15a",
   "metadata": {
    "execution": {
     "iopub.execute_input": "2022-09-10T18:15:17.286060Z",
     "iopub.status.busy": "2022-09-10T18:15:17.284695Z",
     "iopub.status.idle": "2022-09-10T18:15:17.289150Z",
     "shell.execute_reply": "2022-09-10T18:15:17.290068Z"
    }
   },
   "outputs": [],
   "source": [
    "X_o = np.stack([np.ones(n), x_1], axis=1)\n",
    "# Show the result\n",
    "X_o"
   ]
  },
  {
   "cell_type": "markdown",
   "id": "51734688",
   "metadata": {},
   "source": [
    "Here is the matrix that we will invert to make the pseudoinverse:"
   ]
  },
  {
   "cell_type": "code",
   "execution_count": 30,
   "id": "b7bc698c",
   "metadata": {
    "execution": {
     "iopub.execute_input": "2022-09-10T18:15:17.297938Z",
     "iopub.status.busy": "2022-09-10T18:15:17.296786Z",
     "iopub.status.idle": "2022-09-10T18:15:17.300895Z",
     "shell.execute_reply": "2022-09-10T18:15:17.301552Z"
    }
   },
   "outputs": [],
   "source": [
    "XtX_o = X_o.T @ X_o\n",
    "XtX_o"
   ]
  },
  {
   "cell_type": "markdown",
   "id": "652eb85f",
   "metadata": {},
   "source": [
    "Look at the diagonal values of the matrix `X_o.T @ X_o`.  What is the\n",
    "relationship of these values to the *vector lengths* of the vectors in the\n",
    "first and second columns of `X_o`?\n",
    "\n",
    "Find the new value for $(\\Xmat^T \\Xmat)^{-1}$ – the inverse of `X_o.T @ X_o`."
   ]
  },
  {
   "cell_type": "code",
   "execution_count": 31,
   "id": "9fa044b6",
   "metadata": {
    "execution": {
     "iopub.execute_input": "2022-09-10T18:15:17.309747Z",
     "iopub.status.busy": "2022-09-10T18:15:17.308019Z",
     "iopub.status.idle": "2022-09-10T18:15:17.312810Z",
     "shell.execute_reply": "2022-09-10T18:15:17.313482Z"
    }
   },
   "outputs": [],
   "source": [
    "iXtX_o = npl.inv(XtX_o)\n",
    "# Show the result\n",
    "iXtX_o"
   ]
  },
  {
   "cell_type": "markdown",
   "id": "b9cb1e27",
   "metadata": {},
   "source": [
    "What is the relationship of the values in the diagonal of the inverse matrix to\n",
    "the lengths of the vectors in the first and second columns of `X_o`?\n",
    "\n",
    "*Hint*: $A^{-1} \\cdot A = I$; if $A$ has all zeros off the diagonal, what must\n",
    "$A^{-1}$ be for this to be true?\n",
    "\n",
    "Make a new data vector `y_c` by subtracting the mean from the psychopathy\n",
    "vector:"
   ]
  },
  {
   "cell_type": "code",
   "execution_count": 32,
   "id": "10185f65",
   "metadata": {
    "execution": {
     "iopub.execute_input": "2022-09-10T18:15:17.321209Z",
     "iopub.status.busy": "2022-09-10T18:15:17.319826Z",
     "iopub.status.idle": "2022-09-10T18:15:17.324671Z",
     "shell.execute_reply": "2022-09-10T18:15:17.325596Z"
    }
   },
   "outputs": [],
   "source": [
    "#- Make mean-centered version of psychopathy vector\n",
    "y_c = psychopathy - np.mean(psychopathy)\n",
    "# Show the result\n",
    "y_c"
   ]
  },
  {
   "cell_type": "markdown",
   "id": "cfb0f2bc",
   "metadata": {},
   "source": [
    "Calculate a new `B_o` parameter vector for the least-squares fit of `X_o`\n",
    "to `y_c`:"
   ]
  },
  {
   "cell_type": "code",
   "execution_count": 33,
   "id": "00f6b51f",
   "metadata": {
    "execution": {
     "iopub.execute_input": "2022-09-10T18:15:17.333084Z",
     "iopub.status.busy": "2022-09-10T18:15:17.331890Z",
     "iopub.status.idle": "2022-09-10T18:15:17.336083Z",
     "shell.execute_reply": "2022-09-10T18:15:17.336732Z"
    }
   },
   "outputs": [],
   "source": [
    "#- Calculate fit of X_o to y_c\n",
    "B_o = iXtX_o @ X_o.T @ y_c\n",
    "# Show the result\n",
    "B_o"
   ]
  },
  {
   "cell_type": "markdown",
   "id": "2c3dd773",
   "metadata": {},
   "source": [
    "The first parameter has changed compared to your previous estimate.  Can you\n",
    "explain why it has this new value by considering the values of $(\\Xmat^T\n",
    "\\Xmat)^{-1} \\Xmat^T \\yvec$?\n",
    "\n",
    "Calculate the correlation coefficient between `y_c` and the second column of\n",
    "`X_o`.  In case you want to play it that way, here's a function to calculate\n",
    "z-scores (standard scores), that you could use to calculate the correlation."
   ]
  },
  {
   "cell_type": "code",
   "execution_count": 34,
   "id": "4cf7875a",
   "metadata": {
    "execution": {
     "iopub.execute_input": "2022-09-10T18:15:17.344028Z",
     "iopub.status.busy": "2022-09-10T18:15:17.342787Z",
     "iopub.status.idle": "2022-09-10T18:15:17.346592Z",
     "shell.execute_reply": "2022-09-10T18:15:17.345898Z"
    }
   },
   "outputs": [],
   "source": [
    "def standard_scores(v):\n",
    "    return (v - np.mean(v)) / np.std(v)"
   ]
  },
  {
   "cell_type": "code",
   "execution_count": 35,
   "id": "2f7e1349",
   "metadata": {
    "execution": {
     "iopub.execute_input": "2022-09-10T18:15:17.354211Z",
     "iopub.status.busy": "2022-09-10T18:15:17.352990Z",
     "iopub.status.idle": "2022-09-10T18:15:17.357412Z",
     "shell.execute_reply": "2022-09-10T18:15:17.358327Z"
    }
   },
   "outputs": [],
   "source": [
    "#- Correlation coefficient of the second column of X_o and y_c\n",
    "r_xy = np.mean(standard_scores(x_1) * standard_scores(y_c))\n",
    "# Show the result\n",
    "r_xy"
   ]
  },
  {
   "cell_type": "markdown",
   "id": "3fb0ef7d",
   "metadata": {},
   "source": [
    "Next we explore the relationship between this correlation coefficient and `x_1`\n",
    "— the second column of the design matrix.\n",
    "\n",
    "First - consider the calculation that gave us the value for the slope:"
   ]
  },
  {
   "cell_type": "code",
   "execution_count": 36,
   "id": "be20a21e",
   "metadata": {
    "execution": {
     "iopub.execute_input": "2022-09-10T18:15:17.365622Z",
     "iopub.status.busy": "2022-09-10T18:15:17.364491Z",
     "iopub.status.idle": "2022-09-10T18:15:17.368581Z",
     "shell.execute_reply": "2022-09-10T18:15:17.369285Z"
    }
   },
   "outputs": [],
   "source": [
    "# The regression slope.\n",
    "b = B_o[1]\n",
    "b"
   ]
  },
  {
   "cell_type": "markdown",
   "id": "8b68309f",
   "metadata": {},
   "source": [
    "We got this value via:"
   ]
  },
  {
   "cell_type": "code",
   "execution_count": 37,
   "id": "9434f234",
   "metadata": {
    "execution": {
     "iopub.execute_input": "2022-09-10T18:15:17.377779Z",
     "iopub.status.busy": "2022-09-10T18:15:17.376454Z",
     "iopub.status.idle": "2022-09-10T18:15:17.380867Z",
     "shell.execute_reply": "2022-09-10T18:15:17.381580Z"
    }
   },
   "outputs": [],
   "source": [
    "B_o = npl.inv(X_o.T @ X_o) @ X_o.T @ y_c\n",
    "B_o"
   ]
  },
  {
   "cell_type": "markdown",
   "id": "0b288211",
   "metadata": {},
   "source": [
    "We can break this calculation up into:"
   ]
  },
  {
   "cell_type": "code",
   "execution_count": 38,
   "id": "303accb6",
   "metadata": {
    "execution": {
     "iopub.execute_input": "2022-09-10T18:15:17.389319Z",
     "iopub.status.busy": "2022-09-10T18:15:17.388093Z",
     "iopub.status.idle": "2022-09-10T18:15:17.393237Z",
     "shell.execute_reply": "2022-09-10T18:15:17.393967Z"
    }
   },
   "outputs": [],
   "source": [
    "# First part.\n",
    "iXtX_o = npl.inv(X_o.T @ X_o)\n",
    "# Second part\n",
    "XtY_o = X_o.T @ y_c\n",
    "# Result (B_o)\n",
    "iXtX_o @ XtY_o"
   ]
  },
  {
   "cell_type": "markdown",
   "id": "44b468cd",
   "metadata": {},
   "source": [
    "Consider the second part of the calculation:"
   ]
  },
  {
   "cell_type": "code",
   "execution_count": 39,
   "id": "ab4b55de",
   "metadata": {
    "execution": {
     "iopub.execute_input": "2022-09-10T18:15:17.401350Z",
     "iopub.status.busy": "2022-09-10T18:15:17.400082Z",
     "iopub.status.idle": "2022-09-10T18:15:17.404431Z",
     "shell.execute_reply": "2022-09-10T18:15:17.405072Z"
    }
   },
   "outputs": [],
   "source": [
    "XtY_o"
   ]
  },
  {
   "cell_type": "markdown",
   "id": "ffce8212",
   "metadata": {},
   "source": [
    "This has two values:\n",
    "\n",
    "* `B_o[0]`: the dot product of the vector of ones with `y_c`\n",
    "* `B_o[1]`: the dot product of `x_1` with `y_c`\n",
    "\n",
    "Now consider the first part of the calculation:"
   ]
  },
  {
   "cell_type": "code",
   "execution_count": 40,
   "id": "159a4136",
   "metadata": {
    "execution": {
     "iopub.execute_input": "2022-09-10T18:15:17.413681Z",
     "iopub.status.busy": "2022-09-10T18:15:17.412249Z",
     "iopub.status.idle": "2022-09-10T18:15:17.416678Z",
     "shell.execute_reply": "2022-09-10T18:15:17.417342Z"
    }
   },
   "outputs": [],
   "source": [
    "iXtX_o"
   ]
  },
  {
   "cell_type": "markdown",
   "id": "f688aeba",
   "metadata": {},
   "source": [
    "Remember, this is just the inverse of:"
   ]
  },
  {
   "cell_type": "code",
   "execution_count": 41,
   "id": "e4ebb687",
   "metadata": {
    "execution": {
     "iopub.execute_input": "2022-09-10T18:15:17.425148Z",
     "iopub.status.busy": "2022-09-10T18:15:17.423594Z",
     "iopub.status.idle": "2022-09-10T18:15:17.428265Z",
     "shell.execute_reply": "2022-09-10T18:15:17.429290Z"
    }
   },
   "outputs": [],
   "source": [
    "XtX_o = X_o.T @ X_o\n",
    "XtX_o"
   ]
  },
  {
   "cell_type": "markdown",
   "id": "c5b47fdf",
   "metadata": {},
   "source": [
    "Matrix multiplication (`@`) takes the dot products of each left row with each\n",
    "right column.  As you may have noticed above, this means the elements on the\n",
    "diagonal are just the vector lengths of each column.  Because the columns are\n",
    "orthogonal, the off-diagonal elements are all 0.\n",
    "\n",
    "The [inverse of a diagonal matrix](https://textbook.nipraxis.org/diag_inverse)\n",
    "is another diagonal matrix where the diagonal elements are given by the\n",
    "reciprocals of the diagonal elements in the original array:"
   ]
  },
  {
   "cell_type": "code",
   "execution_count": 42,
   "id": "d0fadc4c",
   "metadata": {
    "execution": {
     "iopub.execute_input": "2022-09-10T18:15:17.435978Z",
     "iopub.status.busy": "2022-09-10T18:15:17.434601Z",
     "iopub.status.idle": "2022-09-10T18:15:17.439053Z",
     "shell.execute_reply": "2022-09-10T18:15:17.440352Z"
    }
   },
   "outputs": [],
   "source": [
    "print('First diagonal element', 1 / XtX_o[0, 0])\n",
    "print('Second diagonal element', 1 / XtX_o[1, 1])"
   ]
  },
  {
   "cell_type": "markdown",
   "id": "ed940f45",
   "metadata": {},
   "source": [
    "Remember `x_1` is the second column of `X_o`.\n",
    "\n",
    "Now consider the whole calculation that leads up to `B_o`.  Reproduce the\n",
    "calculation of `B_o[1]`, without using matrix multiplication, and given:\n",
    "\n",
    "* the vector length of `x_1`\n",
    "* the dot product of `x_1` and `y_c`\n",
    "\n",
    "Here is the length:"
   ]
  },
  {
   "cell_type": "code",
   "execution_count": 43,
   "id": "3902fd0b",
   "metadata": {
    "execution": {
     "iopub.execute_input": "2022-09-10T18:15:17.448381Z",
     "iopub.status.busy": "2022-09-10T18:15:17.447214Z",
     "iopub.status.idle": "2022-09-10T18:15:17.451335Z",
     "shell.execute_reply": "2022-09-10T18:15:17.452009Z"
    }
   },
   "outputs": [],
   "source": [
    "x_1_len = np.sqrt(x_1 @ x_1)\n",
    "x_1_len"
   ]
  },
  {
   "cell_type": "markdown",
   "id": "d18c36d0",
   "metadata": {},
   "source": [
    "Here's the dot product:"
   ]
  },
  {
   "cell_type": "code",
   "execution_count": 44,
   "id": "61aec992",
   "metadata": {
    "execution": {
     "iopub.execute_input": "2022-09-10T18:15:17.459998Z",
     "iopub.status.busy": "2022-09-10T18:15:17.458224Z",
     "iopub.status.idle": "2022-09-10T18:15:17.463268Z",
     "shell.execute_reply": "2022-09-10T18:15:17.463961Z"
    }
   },
   "outputs": [],
   "source": [
    "x_dot_y = x_1 @ y_c\n",
    "x_dot_y"
   ]
  },
  {
   "cell_type": "code",
   "execution_count": 45,
   "id": "5943bee0",
   "metadata": {
    "execution": {
     "iopub.execute_input": "2022-09-10T18:15:17.470716Z",
     "iopub.status.busy": "2022-09-10T18:15:17.469570Z",
     "iopub.status.idle": "2022-09-10T18:15:17.473997Z",
     "shell.execute_reply": "2022-09-10T18:15:17.475075Z"
    }
   },
   "outputs": [],
   "source": [
    "b_reproduced = 1 / x_1_len ** 2 * x_dot_y\n",
    "# Show the result\n",
    "b_reproduced"
   ]
  },
  {
   "cell_type": "markdown",
   "id": "d36e9efe",
   "metadata": {},
   "source": [
    "Now we return to the correlation coefficient.\n",
    "\n",
    "Remember this is given by first subtracting the mean from each vector, then\n",
    "multiplying the resulting mean-centered vectors, to give the elementwise\n",
    "product, then taking the mean of the elementwise product.\n",
    "\n",
    "Remember that `x_1` and `x_c` already have mean zero.\n",
    "\n",
    "Consider the calculation of the correlation coefficient, and that of the dot\n",
    "product `x_dot_y` above.\n",
    "\n",
    "Reconstruct `x_dot_y` above from the correlation coefficient, `n`,\n",
    "`np.std(y_c)` and `np.std(x_1)`:"
   ]
  },
  {
   "cell_type": "code",
   "execution_count": 46,
   "id": "729f740f",
   "metadata": {
    "execution": {
     "iopub.execute_input": "2022-09-10T18:15:17.483111Z",
     "iopub.status.busy": "2022-09-10T18:15:17.481933Z",
     "iopub.status.idle": "2022-09-10T18:15:17.486011Z",
     "shell.execute_reply": "2022-09-10T18:15:17.486789Z"
    },
    "lines_to_next_cell": 2
   },
   "outputs": [],
   "source": [
    "y_c_std = np.std(y_c)\n",
    "x_dot_y_reconstructed = r_xy * n * y_c_std * x_1_std\n",
    "# Show the result\n",
    "x_dot_y_reconstructed"
   ]
  },
  {
   "cell_type": "markdown",
   "id": "7ee76e5d",
   "metadata": {},
   "source": [
    "Remember the relationships you found above:\n",
    "\n",
    "* Between the standard deviation and the vector length.\n",
    "* Between the dot product of two zero-mean vectors and the correlation.\n",
    "\n",
    "See if you can use a reworking of your formula above to reconstruct `B_o[1]`\n",
    "with a calculation using only:\n",
    "\n",
    "* `r_xy` (the correlation)\n",
    "* `x_1_std`\n",
    "* `y_c_std`\n",
    "* `n` (if you need it).\n",
    "\n",
    "Try simplifying the calculation as far as possible."
   ]
  },
  {
   "cell_type": "code",
   "execution_count": 47,
   "id": "15cf65c3",
   "metadata": {
    "execution": {
     "iopub.execute_input": "2022-09-10T18:15:17.494954Z",
     "iopub.status.busy": "2022-09-10T18:15:17.493748Z",
     "iopub.status.idle": "2022-09-10T18:15:17.498845Z",
     "shell.execute_reply": "2022-09-10T18:15:17.498194Z"
    }
   },
   "outputs": [],
   "source": [
    "b_reproduced_again = r_xy *  y_c_std / x_1_std\n",
    "# Show the result\n",
    "b_reproduced_again"
   ]
  },
  {
   "cell_type": "markdown",
   "id": "027e8375",
   "metadata": {},
   "source": [
    "Did you get the same calculation as you saw in [on\n",
    "regression](https://textbook.nipraxis.org/on_regression)?"
   ]
  },
  {
   "cell_type": "markdown",
   "id": "c635a66b",
   "metadata": {},
   "source": [
    "## Different models, different parameters\n",
    "\n",
    "Now try calculating $\\bvec$ fitting the `X_o` design to the original\n",
    "psychopathy data (not the mean-centered version)."
   ]
  },
  {
   "cell_type": "code",
   "execution_count": 48,
   "id": "03935f4a",
   "metadata": {
    "execution": {
     "iopub.execute_input": "2022-09-10T18:15:17.506060Z",
     "iopub.status.busy": "2022-09-10T18:15:17.504904Z",
     "iopub.status.idle": "2022-09-10T18:15:17.510437Z",
     "shell.execute_reply": "2022-09-10T18:15:17.511250Z"
    }
   },
   "outputs": [],
   "source": [
    "#- Fit X_o to psychopathy data\n",
    "B_o = iXtX @ X_o.T @ psychopathy\n",
    "# Show the result\n",
    "B_o"
   ]
  },
  {
   "cell_type": "markdown",
   "id": "c518feac",
   "metadata": {},
   "source": [
    "Compare the first value in the new `B_o` parameter vector with the mean of\n",
    "the `psychpathy` vector."
   ]
  },
  {
   "cell_type": "code",
   "execution_count": 49,
   "id": "2b2ff6dc",
   "metadata": {
    "execution": {
     "iopub.execute_input": "2022-09-10T18:15:17.518792Z",
     "iopub.status.busy": "2022-09-10T18:15:17.517434Z",
     "iopub.status.idle": "2022-09-10T18:15:17.521764Z",
     "shell.execute_reply": "2022-09-10T18:15:17.522453Z"
    }
   },
   "outputs": [],
   "source": [
    "np.mean(psychopathy)"
   ]
  },
  {
   "cell_type": "markdown",
   "id": "13d70308",
   "metadata": {},
   "source": [
    "Can you explain the relationship?\n",
    "\n",
    "For extra points, can you explain why the second value in `B_o` did not\n",
    "change when we estimated for `psychopathy` rather than the mean-centered\n",
    "version `y_c`?  Hint: remember $(\\vec{a} + \\vec{b}) \\cdot \\vec{c} = \\vec{a}\n",
    "\\cdot \\vec{c} + \\vec{b} \\cdot \\vec{c}$.\n",
    "\n",
    "Calculate the fitted values for the `X_o` model, and compare them to the\n",
    "fitted values for the original model:"
   ]
  },
  {
   "cell_type": "code",
   "execution_count": 50,
   "id": "d513b3b5",
   "metadata": {
    "execution": {
     "iopub.execute_input": "2022-09-10T18:15:17.530780Z",
     "iopub.status.busy": "2022-09-10T18:15:17.529709Z",
     "iopub.status.idle": "2022-09-10T18:15:17.534363Z",
     "shell.execute_reply": "2022-09-10T18:15:17.533685Z"
    }
   },
   "outputs": [],
   "source": [
    "fitted_X_o = X_o @ B_o\n",
    "np.allclose(fitted_X_o, fitted)"
   ]
  },
  {
   "cell_type": "markdown",
   "id": "07dfff50",
   "metadata": {},
   "source": [
    "For even more extra points, explain the relationship between the fitted values\n",
    "for the original model and those for the new model, where the clammy regressor\n",
    "is mean centered."
   ]
  }
 ],
 "metadata": {
  "jupytext": {
   "notebook_metadata_filter": "all,-language_info",
   "split_at_heading": true,
   "text_representation": {
    "extension": ".Rmd",
    "format_name": "rmarkdown",
    "format_version": "1.2",
    "jupytext_version": "1.10.3"
   }
  },
  "kernelspec": {
   "display_name": "Python 3",
   "language": "python",
   "name": "python3"
  },
  "language_info": {
   "codemirror_mode": {
    "name": "ipython",
    "version": 3
   },
   "file_extension": ".py",
   "mimetype": "text/x-python",
   "name": "python",
   "nbconvert_exporter": "python",
   "pygments_lexer": "ipython3",
   "version": "3.9.13"
  }
 },
 "nbformat": 4,
 "nbformat_minor": 5
}
